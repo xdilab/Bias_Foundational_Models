{
  "cells": [
    {
      "cell_type": "code",
      "execution_count": null,
      "metadata": {
        "colab": {
          "base_uri": "https://localhost:8080/"
        },
        "id": "hXle99u2-SxD",
        "outputId": "dc8a7901-f8f6-4dbe-b417-2267c287c142"
      },
      "outputs": [
        {
          "output_type": "stream",
          "name": "stdout",
          "text": [
            "Mounted at /content/drive\n"
          ]
        }
      ],
      "source": [
        "from google.colab import drive\n",
        "drive.mount('/content/drive')"
      ]
    },
    {
      "cell_type": "code",
      "execution_count": null,
      "metadata": {
        "id": "EnhHzRUO7iEy"
      },
      "outputs": [],
      "source": [
        "!pip install segmentation-models-pytorch"
      ]
    },
    {
      "cell_type": "code",
      "source": [
        "!pip install albumentations"
      ],
      "metadata": {
        "id": "XzI5kz3nx_-A"
      },
      "execution_count": null,
      "outputs": []
    },
    {
      "cell_type": "code",
      "execution_count": null,
      "metadata": {
        "id": "N1KSrIjO-I-q"
      },
      "outputs": [],
      "source": [
        "# for data load\n",
        "import os\n",
        "import pandas as pd\n",
        "from glob import glob\n",
        "import segmentation_models_pytorch as smp\n",
        "import tensorflow as tf\n",
        "from segmentation_models_pytorch.losses import DiceLoss\n",
        "import torch.nn as nn\n",
        "import torch\n",
        "import numpy as np\n",
        "from tqdm import tqdm\n",
        "from torch.utils.data import Dataset, DataLoader\n",
        "import albumentations as A\n",
        "from albumentations.pytorch import ToTensorV2\n",
        "\n",
        "# for reading and processing images\n",
        "import imageio\n",
        "from PIL import Image\n",
        "\n",
        "# for visualizations\n",
        "import matplotlib.pyplot as plt\n",
        "\n",
        "import numpy as np # for using np arrays\n",
        "\n",
        "# for bulding and running deep learning model\n",
        "from sklearn.metrics import precision_score, recall_score, jaccard_score\n",
        "from scipy.spatial.distance import directed_hausdorff\n",
        "from sklearn.model_selection import train_test_split\n",
        "from google.colab import files\n",
        "\n"
      ]
    },
    {
      "cell_type": "code",
      "execution_count": null,
      "metadata": {
        "id": "4O6mn35hGCbQ",
        "collapsed": true
      },
      "outputs": [],
      "source": [
        "#upload kaggle token and download dataset\n",
        "\n",
        "!mkdir -p ~/.kaggle\n",
        "!mv /content/kaggle.json ~/.kaggle/\n",
        "\n",
        "!kaggle datasets download -d mateuszbuda/lgg-mri-segmentation\n",
        "!unzip lgg-mri-segmentation.zip -d /content/dataset"
      ]
    },
    {
      "cell_type": "code",
      "execution_count": null,
      "metadata": {
        "id": "nNWfw1I7-VA0"
      },
      "outputs": [],
      "source": [
        "def LoadData (path1, path2):\n",
        "    \"\"\"\n",
        "    Looks for relevant filenames in the shared path\n",
        "    Returns 2 lists for original and masked files respectively\n",
        "\n",
        "    \"\"\"\n",
        "    # Read the images folder like a list\n",
        "\n",
        "    # Make a list for images and masks filenames\n",
        "    orig_img = []\n",
        "    mask_img = []\n",
        "    for file in path1:\n",
        "        orig_img.append(file)\n",
        "    for file in path2:\n",
        "        mask_img.append(file)\n",
        "\n",
        "    # Sort the lists to get both of them in same order (the dataset has exactly the same name for images and corresponding masks)\n",
        "    orig_img.sort()\n",
        "    mask_img.sort()\n",
        "\n",
        "    return orig_img, mask_img\n",
        "\n"
      ]
    },
    {
      "cell_type": "code",
      "execution_count": null,
      "metadata": {
        "id": "Kfy5LV0b-cEa"
      },
      "outputs": [],
      "source": [
        "def PreprocessData(img, mask, target_shape_img, target_shape_mask, path1, path2, n_slices=3):\n",
        "    \"\"\"\n",
        "    Processes the images and mask present in the shared list and path.\n",
        "    Each input sample includes `n_slices` adjacent slices (center ±N).\n",
        "    Returns:\n",
        "        X - Image stack of shape (m, H, W, n_slices)\n",
        "        y - Corresponding masks of shape (m, H, W, 1)\n",
        "    \"\"\"\n",
        "    import numpy as np\n",
        "    from PIL import Image\n",
        "    import os\n",
        "\n",
        "    m = len(img)  # number of total slices\n",
        "    i_h, i_w, _ = target_shape_img\n",
        "    m_h, m_w, m_c = target_shape_mask\n",
        "\n",
        "    # Image shape now includes n_slices as channels\n",
        "    X = np.zeros((m, i_h, i_w, n_slices), dtype=np.float32)\n",
        "    y = np.zeros((m, m_h, m_w, m_c), dtype=np.float32)\n",
        "\n",
        "    half = n_slices // 2\n",
        "\n",
        "    for index in range(m):\n",
        "        slice_stack = []\n",
        "\n",
        "        for offset in range(-half, half + 1):\n",
        "            slice_idx = index + offset\n",
        "            # Handle boundaries by clamping the index\n",
        "            slice_idx = max(0, min(slice_idx, m - 1))\n",
        "            adj_file = img[slice_idx]\n",
        "            adj_path = os.path.join(path1[slice_idx], adj_file)\n",
        "\n",
        "            adj_img = Image.open(adj_path).convert('L')  # grayscale\n",
        "            adj_img = adj_img.resize((i_h, i_w))\n",
        "            adj_img = np.array(adj_img, dtype=np.float32) / 255.0\n",
        "            slice_stack.append(adj_img)\n",
        "\n",
        "        # Stack into (H, W, n_slices)\n",
        "        stacked_img = np.stack(slice_stack, axis=-1)\n",
        "        X[index] = stacked_img\n",
        "\n",
        "        # Load and process mask (same as original)\n",
        "        mask_file = mask[index]\n",
        "        mask_path = os.path.join(path2[index], mask_file)\n",
        "        single_mask = Image.open(mask_path)\n",
        "        single_mask = single_mask.resize((m_h, m_w))\n",
        "        single_mask = np.array(single_mask, dtype=np.float32)\n",
        "        single_mask[single_mask == 255] = 1\n",
        "        single_mask[single_mask > 1] = 1\n",
        "        single_mask = np.reshape(single_mask, (m_h, m_w, m_c))\n",
        "        y[index] = single_mask\n",
        "\n",
        "    return X, y\n"
      ]
    },
    {
      "cell_type": "code",
      "execution_count": null,
      "metadata": {
        "id": "8OhLOAPHcSrf"
      },
      "outputs": [],
      "source": [
        "def compute_metrics(y_true, y_pred):\n",
        "    y_pred_bin = (y_pred > 0.5).astype(np.uint8)  # Convert to binary mask\n",
        "\n",
        "    dice = dice_coefficient(y_true, y_pred_bin).numpy()\n",
        "    iou_score = iou(y_true, y_pred_bin).numpy()\n",
        "\n",
        "    precision = precision_score(y_true.flatten(), y_pred_bin.flatten(), zero_division=1)\n",
        "    recall = recall_score(y_true.flatten(), y_pred_bin.flatten(), zero_division=1)\n",
        "\n",
        "    hausdorff_dist = directed_hausdorff(y_true.squeeze(), y_pred_bin.squeeze())[0]\n",
        "\n",
        "    return {\n",
        "        'Dice Coefficient': dice,\n",
        "        'IoU': iou_score,\n",
        "        'Precision': precision,\n",
        "        'Recall': recall,\n",
        "        'Hausdorff Distance': hausdorff_dist\n",
        "    }\n"
      ]
    },
    {
      "cell_type": "code",
      "execution_count": null,
      "metadata": {
        "id": "N46G_XpjEqOq",
        "colab": {
          "base_uri": "https://localhost:8080/",
          "height": 695
        },
        "outputId": "41549a6e-84d8-471d-a53c-68ea32c2cdfa"
      },
      "outputs": [
        {
          "output_type": "stream",
          "name": "stdout",
          "text": [
            "           Patient                                     image_filename  \\\n",
            "0     TCGA_HT_7884  /content/dataset/lgg-mri-segmentation/kaggle_3...   \n",
            "1     TCGA_HT_7884  /content/dataset/lgg-mri-segmentation/kaggle_3...   \n",
            "2     TCGA_HT_7884  /content/dataset/lgg-mri-segmentation/kaggle_3...   \n",
            "3     TCGA_HT_7884  /content/dataset/lgg-mri-segmentation/kaggle_3...   \n",
            "4     TCGA_HT_7884  /content/dataset/lgg-mri-segmentation/kaggle_3...   \n",
            "...            ...                                                ...   \n",
            "3924  TCGA_DU_7010  /content/dataset/lgg-mri-segmentation/kaggle_3...   \n",
            "3925  TCGA_DU_7010  /content/dataset/lgg-mri-segmentation/kaggle_3...   \n",
            "3926  TCGA_DU_7010  /content/dataset/lgg-mri-segmentation/kaggle_3...   \n",
            "3927  TCGA_DU_7010  /content/dataset/lgg-mri-segmentation/kaggle_3...   \n",
            "3928  TCGA_DU_7010  /content/dataset/lgg-mri-segmentation/kaggle_3...   \n",
            "\n",
            "                                          mask_filename  \n",
            "0     /content/dataset/lgg-mri-segmentation/kaggle_3...  \n",
            "1     /content/dataset/lgg-mri-segmentation/kaggle_3...  \n",
            "2     /content/dataset/lgg-mri-segmentation/kaggle_3...  \n",
            "3     /content/dataset/lgg-mri-segmentation/kaggle_3...  \n",
            "4     /content/dataset/lgg-mri-segmentation/kaggle_3...  \n",
            "...                                                 ...  \n",
            "3924  /content/dataset/lgg-mri-segmentation/kaggle_3...  \n",
            "3925  /content/dataset/lgg-mri-segmentation/kaggle_3...  \n",
            "3926  /content/dataset/lgg-mri-segmentation/kaggle_3...  \n",
            "3927  /content/dataset/lgg-mri-segmentation/kaggle_3...  \n",
            "3928  /content/dataset/lgg-mri-segmentation/kaggle_3...  \n",
            "\n",
            "[3929 rows x 3 columns]\n"
          ]
        },
        {
          "output_type": "execute_result",
          "data": {
            "text/plain": [
              "'\\n\\n\\ndef is_valid_mask(mask_path, threshold=0.00001):\\n    \"\"\"Returns True if at least `threshold` of pixels are non-black.\"\"\"\\n    mask = Image.open(mask_path).convert(\\'L\\')\\n    mask_array = np.array(mask)\\n    non_black_ratio = np.count_nonzero(mask_array) / mask_array.size\\n    return non_black_ratio >= threshold\\n\\n# Separate valid and invalid\\nvalid_df = train_df[train_df[\\'mask_filename\\'].apply(is_valid_mask)]\\ninvalid_df = train_df[~train_df[\\'mask_filename\\'].apply(is_valid_mask)]\\n\\n# Keep 20% of the invalid ones\\ninvalid_sampled = invalid_df.sample(frac=1, random_state=42)\\n\\n# Combine back\\nfiltered_df = pd.concat([valid_df, invalid_sampled]).reset_index(drop=True)\\n\\nprint(f\"Filtered dataset size: {len(filtered_df)} / {len(train_df)}\")\\n\\n# Filter out rows with masks that are too empty to be considered (1373 usable)\\n#filtered_df = train_df[train_df[\\'mask_filename\\'].apply(is_valid_mask)].reset_index(drop=True)\\n\\n#print(f\"Filtered dataset size: {len(filtered_df)} / {len(train_df)}\")\\n#print(filtered_df)\\n\\n#print(train_df)\\n'"
            ],
            "application/vnd.google.colaboratory.intrinsic+json": {
              "type": "string"
            }
          },
          "metadata": {},
          "execution_count": 15
        }
      ],
      "source": [
        "def get_file_row(path):\n",
        "    \"\"\"Produces ID of a patient, image and mask filenames from a particular path\"\"\"\n",
        "    path_no_ext, ext = os.path.splitext(path)\n",
        "    filename = os.path.basename(path)\n",
        "\n",
        "    patient_id = '_'.join(filename.split('_')[:3]) # Patient ID in the csv file consists of 3 first filename segments\n",
        "\n",
        "    return [patient_id, path, f'{path_no_ext}_mask{ext}']\n",
        "\n",
        "files_dir = '/content/dataset/lgg-mri-segmentation/kaggle_3m'\n",
        "file_paths = glob(f'{files_dir}/*/*[0-9].tif')\n",
        "train_df = pd.DataFrame((get_file_row(filename) for filename in file_paths), columns=['Patient', 'image_filename', 'mask_filename'])\n",
        "print(train_df)\n",
        "'''\n",
        "\n",
        "\n",
        "def is_valid_mask(mask_path, threshold=0.00001):\n",
        "    \"\"\"Returns True if at least `threshold` of pixels are non-black.\"\"\"\n",
        "    mask = Image.open(mask_path).convert('L')\n",
        "    mask_array = np.array(mask)\n",
        "    non_black_ratio = np.count_nonzero(mask_array) / mask_array.size\n",
        "    return non_black_ratio >= threshold\n",
        "\n",
        "# Separate valid and invalid\n",
        "valid_df = train_df[train_df['mask_filename'].apply(is_valid_mask)]\n",
        "invalid_df = train_df[~train_df['mask_filename'].apply(is_valid_mask)]\n",
        "\n",
        "# Keep 20% of the invalid ones\n",
        "invalid_sampled = invalid_df.sample(frac=1, random_state=42)\n",
        "\n",
        "# Combine back\n",
        "filtered_df = pd.concat([valid_df, invalid_sampled]).reset_index(drop=True)\n",
        "\n",
        "print(f\"Filtered dataset size: {len(filtered_df)} / {len(train_df)}\")\n",
        "\n",
        "# Filter out rows with masks that are too empty to be considered (1373 usable)\n",
        "#filtered_df = train_df[train_df['mask_filename'].apply(is_valid_mask)].reset_index(drop=True)\n",
        "\n",
        "#print(f\"Filtered dataset size: {len(filtered_df)} / {len(train_df)}\")\n",
        "#print(filtered_df)\n",
        "\n",
        "#print(train_df)\n",
        "'''"
      ]
    },
    {
      "cell_type": "code",
      "source": [
        "patient_info = pd.read_csv('/content/dataset/lgg-mri-segmentation/kaggle_3m/data.csv')\n",
        "\n",
        "train_df['Patient'] = train_df['image_filename'].apply(lambda x: os.path.basename(x).split('_')[0] + '_' + os.path.basename(x).split('_')[1] + '_' + os.path.basename(x).split('_')[2])\n",
        "\n",
        "# Map race to each filename\n",
        "#map = dict(zip(patient_info['Patient'], patient_info['race']))\n",
        "#train_df['race'] = train_df['Patient'].map(map)\n",
        "\n",
        "train_df = train_df.merge(\n",
        "    patient_info[['Patient', 'race', 'gender']],\n",
        "    on='Patient',\n",
        "    how='left'\n",
        ")\n",
        "print(train_df)"
      ],
      "metadata": {
        "colab": {
          "base_uri": "https://localhost:8080/"
        },
        "id": "dmAVk9hktD1p",
        "outputId": "ed445873-e1aa-46c3-e8e3-2a9769600da2"
      },
      "execution_count": null,
      "outputs": [
        {
          "output_type": "stream",
          "name": "stdout",
          "text": [
            "           Patient                                     image_filename  \\\n",
            "0     TCGA_HT_7884  /content/dataset/lgg-mri-segmentation/kaggle_3...   \n",
            "1     TCGA_HT_7884  /content/dataset/lgg-mri-segmentation/kaggle_3...   \n",
            "2     TCGA_HT_7884  /content/dataset/lgg-mri-segmentation/kaggle_3...   \n",
            "3     TCGA_HT_7884  /content/dataset/lgg-mri-segmentation/kaggle_3...   \n",
            "4     TCGA_HT_7884  /content/dataset/lgg-mri-segmentation/kaggle_3...   \n",
            "...            ...                                                ...   \n",
            "3924  TCGA_DU_7010  /content/dataset/lgg-mri-segmentation/kaggle_3...   \n",
            "3925  TCGA_DU_7010  /content/dataset/lgg-mri-segmentation/kaggle_3...   \n",
            "3926  TCGA_DU_7010  /content/dataset/lgg-mri-segmentation/kaggle_3...   \n",
            "3927  TCGA_DU_7010  /content/dataset/lgg-mri-segmentation/kaggle_3...   \n",
            "3928  TCGA_DU_7010  /content/dataset/lgg-mri-segmentation/kaggle_3...   \n",
            "\n",
            "                                          mask_filename  race  gender  \n",
            "0     /content/dataset/lgg-mri-segmentation/kaggle_3...   3.0     1.0  \n",
            "1     /content/dataset/lgg-mri-segmentation/kaggle_3...   3.0     1.0  \n",
            "2     /content/dataset/lgg-mri-segmentation/kaggle_3...   3.0     1.0  \n",
            "3     /content/dataset/lgg-mri-segmentation/kaggle_3...   3.0     1.0  \n",
            "4     /content/dataset/lgg-mri-segmentation/kaggle_3...   3.0     1.0  \n",
            "...                                                 ...   ...     ...  \n",
            "3924  /content/dataset/lgg-mri-segmentation/kaggle_3...   3.0     1.0  \n",
            "3925  /content/dataset/lgg-mri-segmentation/kaggle_3...   3.0     1.0  \n",
            "3926  /content/dataset/lgg-mri-segmentation/kaggle_3...   3.0     1.0  \n",
            "3927  /content/dataset/lgg-mri-segmentation/kaggle_3...   3.0     1.0  \n",
            "3928  /content/dataset/lgg-mri-segmentation/kaggle_3...   3.0     1.0  \n",
            "\n",
            "[3929 rows x 5 columns]\n"
          ]
        }
      ]
    },
    {
      "cell_type": "code",
      "execution_count": null,
      "metadata": {
        "id": "QG5E4cJd-rsK",
        "colab": {
          "base_uri": "https://localhost:8080/",
          "height": 465
        },
        "outputId": "392d99a4-4e57-4a87-eb56-78b96312186b"
      },
      "outputs": [
        {
          "output_type": "stream",
          "name": "stderr",
          "text": [
            "/tmp/ipython-input-3247516104.py:11: DeprecationWarning: Starting with ImageIO v3 the behavior of this function will switch to that of iio.v3.imread. To keep the current behavior (and make this warning disappear) use `import imageio.v2 as imageio` or call `imageio.v2.imread` directly.\n",
            "  img_view  = imageio.imread(path1[i])\n",
            "/tmp/ipython-input-3247516104.py:12: DeprecationWarning: Starting with ImageIO v3 the behavior of this function will switch to that of iio.v3.imread. To keep the current behavior (and make this warning disappear) use `import imageio.v2 as imageio` or call `imageio.v2.imread` directly.\n",
            "  mask_view = imageio.imread(path2[i])\n"
          ]
        },
        {
          "output_type": "stream",
          "name": "stdout",
          "text": [
            "(256, 256, 3)\n",
            "(256, 256)\n"
          ]
        },
        {
          "output_type": "display_data",
          "data": {
            "text/plain": [
              "<Figure size 1500x1500 with 2 Axes>"
            ],
            "image/png": "[encoded data removed]"
          },
          "metadata": {}
        }
      ],
      "source": [
        "\"\"\" Load Train Set and view some examples \"\"\"\n",
        "# Call the apt function\n",
        "path1 = train_df[\"image_filename\"].tolist()\n",
        "path2 = train_df[\"mask_filename\"].tolist()\n",
        "img, mask = LoadData (path1, path2)\n",
        "\n",
        "\n",
        "# View an example of image and corresponding mask\n",
        "show_images = 1\n",
        "for i in range(show_images):\n",
        "    img_view  = imageio.imread(path1[i])\n",
        "    mask_view = imageio.imread(path2[i])\n",
        "    print(img_view.shape)\n",
        "    print(mask_view.shape)\n",
        "    fig, arr = plt.subplots(1, 2, figsize=(15, 15))\n",
        "    arr[0].imshow(img_view)\n",
        "    arr[0].set_title('Image '+ str(i))\n",
        "    arr[1].imshow(mask_view)\n",
        "    arr[1].set_title('Masked Image '+ str(i))"
      ]
    },
    {
      "cell_type": "code",
      "execution_count": null,
      "metadata": {
        "id": "hdbgfPRy-yF9",
        "colab": {
          "base_uri": "https://localhost:8080/",
          "height": 410
        },
        "outputId": "69f7e477-3d22-4be7-e379-6565ec35562a"
      },
      "outputs": [
        {
          "output_type": "stream",
          "name": "stdout",
          "text": [
            "X Shape: (3929, 256, 256, 3)\n",
            "Y shape: (3929, 256, 256, 1)\n",
            "[0. 1.]\n"
          ]
        },
        {
          "output_type": "execute_result",
          "data": {
            "text/plain": [
              "Text(0.5, 1.0, 'Processed Masked Image')"
            ]
          },
          "metadata": {},
          "execution_count": 18
        },
        {
          "output_type": "display_data",
          "data": {
            "text/plain": [
              "<Figure size 1500x1500 with 2 Axes>"
            ],
            "image/png": "[encoded data removed]"
          },
          "metadata": {}
        }
      ],
      "source": [
        "# Define the desired shape\n",
        "target_shape_img = [256, 256, 3]\n",
        "target_shape_mask = [256, 256, 1]\n",
        "\n",
        "# Process data using apt helper function\n",
        "X, y = PreprocessData(img, mask, target_shape_img, target_shape_mask, path1, path2)\n",
        "\n",
        "# QC the shape of output and classes in output dataset\n",
        "print(\"X Shape:\", X.shape)\n",
        "print(\"Y shape:\", y.shape)\n",
        "# There are 2 classes : background, tumor\n",
        "print(np.unique(y))\n",
        "\n",
        "# Visualize the output\n",
        "image_index = 1\n",
        "fig, arr = plt.subplots(1, 2, figsize=(15, 15))\n",
        "arr[0].imshow(X[image_index, :, :, 0], cmap='gray')  # Show MRI image in grayscale\n",
        "arr[0].set_title('Processed MRI Scan')\n",
        "\n",
        "arr[1].imshow(y[image_index, :, :, 0], cmap='gray')  # Show mask in grayscale\n",
        "arr[1].set_title('Processed Masked Image')\n"
      ]
    },
    {
      "cell_type": "code",
      "execution_count": null,
      "metadata": {
        "id": "a-XfLtwO-1M1"
      },
      "outputs": [],
      "source": [
        "# Use scikit-learn's function to split the dataset\n",
        "# Here, I have used 20% data as test/valid set# --- Patient-level train/val split ---\n",
        "patients = train_df[\"Patient\"].unique()\n",
        "train_patients, val_patients = train_test_split(\n",
        "    patients, test_size=0.2, random_state=42\n",
        ")\n",
        "\n",
        "train_df_split = train_df[train_df[\"Patient\"].isin(train_patients)]\n",
        "val_df_split = train_df[train_df[\"Patient\"].isin(val_patients)]\n",
        "\n",
        "# Prepare file lists\n",
        "train_images, train_masks = LoadData(\n",
        "    train_df_split[\"image_filename\"].tolist(),\n",
        "    train_df_split[\"mask_filename\"].tolist()\n",
        ")\n",
        "val_images, val_masks = LoadData(\n",
        "    val_df_split[\"image_filename\"].tolist(),\n",
        "    val_df_split[\"mask_filename\"].tolist()\n",
        ")\n",
        "\n",
        "# Process into arrays with new 256x256 size\n",
        "X_train, y_train = PreprocessData(\n",
        "    train_images, train_masks,\n",
        "    target_shape_img, target_shape_mask,\n",
        "    train_df_split[\"image_filename\"].tolist(),\n",
        "    train_df_split[\"mask_filename\"].tolist()\n",
        ")\n",
        "\n",
        "X_valid, y_valid = PreprocessData(\n",
        "    val_images, val_masks,\n",
        "    target_shape_img, target_shape_mask,\n",
        "    val_df_split[\"image_filename\"].tolist(),\n",
        "    val_df_split[\"mask_filename\"].tolist()\n",
        ")\n"
      ]
    },
    {
      "cell_type": "code",
      "execution_count": null,
      "metadata": {
        "id": "U0hW-JNEWvL0"
      },
      "outputs": [],
      "source": [
        "# =========================\n",
        "# Dataset with Albumentations\n",
        "# =========================\n",
        "class SegmentationDataset(Dataset):\n",
        "    def __init__(self, images, masks, augment=None):\n",
        "        self.images = images  # already numpy arrays\n",
        "        self.masks = masks    # already numpy arrays\n",
        "        self.augment = augment\n",
        "\n",
        "    def __len__(self):\n",
        "        return len(self.images)\n",
        "\n",
        "    def __getitem__(self, idx):\n",
        "        image = self.images[idx]   # shape [H,W,C]\n",
        "        mask = self.masks[idx]     # shape [H,W,1] or [H,W]\n",
        "\n",
        "        # Ensure correct types\n",
        "        image = image.astype(np.float32)\n",
        "        mask = mask.astype(np.float32)\n",
        "        mask = (mask > 0.5).astype(np.float32)  # binarize\n",
        "\n",
        "        # Albumentations expects HWC\n",
        "        if self.augment:\n",
        "            augmented = self.augment(image=image, mask=mask)\n",
        "            image = augmented[\"image\"]\n",
        "            mask = augmented[\"mask\"]\n",
        "\n",
        "        # Convert to tensors\n",
        "        image = torch.tensor(image, dtype=torch.float32).permute(2, 0, 1)  # [C,H,W]\n",
        "        if mask.ndim == 2:  # [H,W]\n",
        "            mask = torch.tensor(mask, dtype=torch.float32).unsqueeze(0)    # [1,H,W]\n",
        "        else:  # [H,W,1]\n",
        "            mask = torch.tensor(mask, dtype=torch.float32).permute(2, 0, 1)\n",
        "\n",
        "        return image, mask\n",
        "\n",
        "\n",
        "\n",
        "# =========================\n",
        "# Augmentation Pipelines\n",
        "# =========================\n",
        "imagenet_mean = (0.485, 0.456, 0.406)\n",
        "imagenet_std = (0.229, 0.224, 0.225)\n",
        "\n",
        "train_transform = A.Compose([\n",
        "    A.HorizontalFlip(p=0.5),\n",
        "    A.VerticalFlip(p=0.5),\n",
        "    A.RandomRotate90(p=0.5),\n",
        "    A.ShiftScaleRotate(shift_limit=0.05, scale_limit=0.1, rotate_limit=15, p=0.5),\n",
        "    A.RandomBrightnessContrast(p=0.5),\n",
        "    A.ElasticTransform(p=0.3),\n",
        "    A.Normalize(mean=imagenet_mean, std=imagenet_std),\n",
        "])\n",
        "\n",
        "valid_transform = A.Compose([\n",
        "    A.Normalize(mean=imagenet_mean, std=imagenet_std),\n",
        "])\n",
        "\n",
        "\n",
        "# =========================\n",
        "# Datasets and Loaders\n",
        "# =========================\n",
        "train_dataset = SegmentationDataset(\n",
        "    X_train,\n",
        "    y_train,\n",
        "    augment=train_transform\n",
        ")\n",
        "\n",
        "val_dataset = SegmentationDataset(\n",
        "    X_valid,\n",
        "    y_valid,\n",
        "    augment=valid_transform\n",
        ")\n",
        "\n",
        "train_loader = DataLoader(\n",
        "    train_dataset,\n",
        "    batch_size=16,\n",
        "    shuffle=True,\n",
        "    num_workers=4\n",
        ")\n",
        "\n",
        "val_loader = DataLoader(\n",
        "    val_dataset,\n",
        "    batch_size=16,\n",
        "    shuffle=False,\n",
        "    num_workers=4\n",
        ")\n"
      ]
    },
    {
      "cell_type": "code",
      "execution_count": null,
      "metadata": {
        "id": "8akxh-myFxNb"
      },
      "outputs": [],
      "source": [
        "pip install torchmetrics"
      ]
    },
    {
      "cell_type": "code",
      "execution_count": null,
      "metadata": {
        "id": "24bQuGNfGFKM"
      },
      "outputs": [],
      "source": [
        "from torchmetrics.classification import BinaryJaccardIndex, BinaryF1Score"
      ]
    },
    {
      "cell_type": "code",
      "source": [
        "class BCEDiceLoss(nn.Module):\n",
        "  def __init__(self, bce_weight=0.5):\n",
        "    super().__init__()\n",
        "    self.dice = smp.losses.DiceLoss(mode = \"binary\")\n",
        "    self.bce = smp.losses.SoftBCEWithLogitsLoss()\n",
        "    self.bce_weight = bce_weight\n",
        "\n",
        "  def forward(self, inputs, targets):\n",
        "    dice_loss = self.dice(inputs, targets)\n",
        "    bce_loss = self.bce(inputs, targets)\n",
        "    return self.bce_weight * bce_loss + (1 - self.bce_weight) * dice_loss"
      ],
      "metadata": {
        "id": "ssOkfrsX-PiM"
      },
      "execution_count": null,
      "outputs": []
    },
    {
      "cell_type": "code",
      "execution_count": null,
      "metadata": {
        "id": "QLSkJdwDjQb9"
      },
      "outputs": [],
      "source": [
        "# Initialize metrics\n",
        "import torch\n",
        "import numpy as np\n",
        "from tqdm import tqdm\n",
        "from torch.optim.lr_scheduler import ReduceLROnPlateau\n",
        "from torchmetrics.classification import BinaryJaccardIndex, BinaryF1Score\n",
        "from segmentation_models_pytorch.metrics import get_stats, iou_score, f1_score\n",
        "iou_metric = BinaryJaccardIndex(threshold=0.5)\n",
        "f1_metric = BinaryF1Score(threshold=0.5)\n",
        "\n",
        "def train_model(model, train_loader, val_loader, optimizer, loss_fn, num_epochs):\n",
        "    best_iou = 0.0\n",
        "    best_threshold = 0.5\n",
        "\n",
        "    history = {\n",
        "        'train_loss': [],\n",
        "        'val_loss': [],\n",
        "        'iou_score': [],\n",
        "        'f1_score': [],\n",
        "        'best_threshold': []\n",
        "    }\n",
        "\n",
        "    scheduler = ReduceLROnPlateau(optimizer, mode='max', factor=0.5, patience=5, min_lr=1e-6)\n",
        "\n",
        "    for epoch in range(num_epochs):\n",
        "        # -------- Training --------\n",
        "        model.train()\n",
        "        train_losses = []\n",
        "        for inputs, targets in tqdm(train_loader, desc=f\"Epoch {epoch+1}/{num_epochs} [Train]\"):\n",
        "            optimizer.zero_grad()\n",
        "            outputs = model(inputs)\n",
        "            loss = loss_fn(outputs, targets)\n",
        "            train_losses.append(loss.item())\n",
        "            loss.backward()\n",
        "            optimizer.step()\n",
        "        avg_train_loss = np.mean(train_losses)\n",
        "\n",
        "        # -------- Validation --------\n",
        "        model.eval()\n",
        "        val_losses, all_preds, all_targets = [], [], []\n",
        "        with torch.no_grad():\n",
        "            for inputs, targets in tqdm(val_loader, desc=f\"Epoch {epoch+1}/{num_epochs} [Valid]\"):\n",
        "                outputs = model(inputs)\n",
        "                loss = loss_fn(outputs, targets)\n",
        "                val_losses.append(loss.item())\n",
        "                probs = torch.sigmoid(outputs)\n",
        "                all_preds.append(probs.cpu())\n",
        "                all_targets.append(targets.cpu())\n",
        "\n",
        "        # Concatenate\n",
        "        all_preds = torch.cat(all_preds, dim=0)\n",
        "        all_targets = torch.cat(all_targets, dim=0)\n",
        "        avg_val_loss = np.mean(val_losses)\n",
        "\n",
        "        # -------- Dynamic threshold search --------\n",
        "        thresholds = np.linspace(0.3, 0.7, 9)\n",
        "        best_epoch_iou, best_epoch_thr = 0.0, 0.5\n",
        "        for thr in thresholds:\n",
        "            preds_bin = (all_preds > thr).float()\n",
        "\n",
        "# Get stats from predictions and targets\n",
        "            stats = get_stats(preds_bin.long(), all_targets.long(), mode='binary')\n",
        "\n",
        "# Compute IoU from stats\n",
        "            iou = iou_score(*stats)\n",
        "            iou = iou.mean().item()\n",
        "            if iou > best_epoch_iou:\n",
        "                best_epoch_iou, best_epoch_thr = iou, thr\n",
        "\n",
        "        # F1 at that threshold\n",
        "        preds_bin = (all_preds > best_epoch_thr).float()\n",
        "        stats_f1 = get_stats(preds_bin.long(), all_targets.long(), mode='binary')\n",
        "        f1 = f1_score(*stats_f1)\n",
        "        avg_f1 = f1.mean().item()\n",
        "\n",
        "        # Scheduler step\n",
        "        scheduler.step(best_epoch_iou)\n",
        "\n",
        "        # Save best model\n",
        "        if best_epoch_iou > best_iou:\n",
        "            best_iou, best_threshold = best_epoch_iou, best_epoch_thr\n",
        "            checkpoint = {\n",
        "                \"epoch\": epoch,\n",
        "                \"model_state\": model.state_dict(),\n",
        "                \"optimizer_state\": optimizer.state_dict(),\n",
        "                \"scheduler_state\": scheduler.state_dict(),\n",
        "                \"best_iou\": best_iou,\n",
        "                \"best_threshold\": best_threshold,\n",
        "                \"history\": history\n",
        "            }\n",
        "            torch.save(checkpoint, f\"checkpoint_best_epoch{epoch+1}_iou{best_iou:.4f}_thr{best_threshold:.2f}.pth\")\n",
        "            print(f\"✅ Saved best model at IoU={best_iou:.4f}, thr={best_threshold:.2f}\")\n",
        "\n",
        "        # Store history\n",
        "        history['train_loss'].append(avg_train_loss)\n",
        "        history['val_loss'].append(avg_val_loss)\n",
        "        history['iou_score'].append(best_epoch_iou)\n",
        "        history['f1_score'].append(avg_f1)\n",
        "        history['best_threshold'].append(best_epoch_thr)\n",
        "\n",
        "        print(f\"Epoch {epoch+1}/{num_epochs}\")\n",
        "        print(f\"Train Loss: {avg_train_loss:.4f} | Val Loss: {avg_val_loss:.4f}\")\n",
        "        print(f\"IoU: {best_epoch_iou:.4f} (thr={best_epoch_thr:.2f}) | F1: {avg_f1:.4f}\")\n",
        "        print(\"-\" * 50)\n",
        "\n",
        "    print(f\"🏆 Best IoU overall: {best_iou:.4f} at threshold {best_threshold:.2f}\")\n",
        "    return history, best_threshold, best_iou"
      ]
    },
    {
      "cell_type": "code",
      "execution_count": null,
      "metadata": {
        "collapsed": true,
        "id": "F-hrkBOinuQI"
      },
      "outputs": [],
      "source": [
        "import matplotlib.pyplot as plt\n",
        "import numpy as np\n",
        "\n",
        "def show_tensor_image(tensor, title=\"\", is_mask=False):\n",
        "    # Convert tensor to NumPy for display\n",
        "    tensor = tensor.squeeze().cpu().numpy()  # Remove any singleton dimensions\n",
        "\n",
        "    # If it's a mask, we use a different display method (usually binary)\n",
        "    if is_mask:\n",
        "        plt.imshow(tensor, cmap='gray')  # Show in grayscale\n",
        "    else:\n",
        "        # For images, ensure the tensor is in [H, W, C] format (matplotlib expects channel last)\n",
        "        if len(tensor.shape) == 3:  # If it's a 3D tensor (e.g., RGB)\n",
        "            tensor = np.transpose(tensor, (1, 2, 0))  # Change from [C, H, W] to [H, W, C]\n",
        "        plt.imshow(tensor)\n",
        "\n",
        "    plt.title(title)\n",
        "    plt.axis('off')  # Hide axes for cleaner display\n",
        "    plt.show()"
      ]
    },
    {
      "cell_type": "code",
      "source": [
        "!pip install totalsegmentator"
      ],
      "metadata": {
        "id": "rfpuva5BdN_X"
      },
      "execution_count": null,
      "outputs": []
    },
    {
      "cell_type": "code",
      "source": [
        "import os\n",
        "import pandas as pd\n",
        "import numpy as np\n",
        "import nibabel as nib\n",
        "from PIL import Image\n",
        "from totalsegmentator.python_api import totalsegmentator\n",
        "\n",
        "def stack_slices_to_nifti(patient_df, out_path):\n",
        "    \"\"\"Stack patient slices into a 3D NIfTI file.\"\"\"\n",
        "    images = []\n",
        "    for img_path in sorted(patient_df[\"image_filename\"].tolist()):\n",
        "        img = Image.open(img_path).convert(\"L\")\n",
        "        images.append(np.array(img))\n",
        "    volume = np.stack(images, axis=-1)  # shape (H, W, D)\n",
        "    nifti = nib.Nifti1Image(volume.astype(np.float32), affine=np.eye(4))\n",
        "    nib.save(nifti, out_path)\n",
        "\n",
        "\n",
        "import torch\n",
        "import nibabel as nib\n",
        "import numpy as np\n",
        "from PIL import Image\n",
        "from segmentation_models_pytorch.metrics import get_stats, iou_score, f1_score\n",
        "from scipy.spatial.distance import directed_hausdorff\n",
        "\n",
        "def evaluate_totalseg(mask_paths, pred_path, threshold=0.5):\n",
        "    \"\"\"\n",
        "    Compare ground truth TIFF masks with TotalSegmentator NIfTI prediction,\n",
        "    using same IoU/F1 calculation as training and adding Hausdorff distance.\n",
        "    \"\"\"\n",
        "    # --- Load NIfTI prediction ---\n",
        "    pred_nii = nib.load(pred_path)\n",
        "    pred_volume = pred_nii.get_fdata()   # shape (H, W, D)\n",
        "\n",
        "    # Binarize\n",
        "    pred_volume = (pred_volume > threshold).astype(np.uint8)\n",
        "\n",
        "    y_true_all = []\n",
        "    y_pred_all = []\n",
        "\n",
        "    # Align slices\n",
        "    min_slices = min(pred_volume.shape[-1], len(mask_paths))\n",
        "\n",
        "    for i in range(min_slices):\n",
        "        gt_mask = np.array(Image.open(mask_paths[i]).convert(\"L\"))\n",
        "        gt_mask = (gt_mask > 127).astype(np.uint8)   # binarize ground truth\n",
        "\n",
        "        pred_slice = pred_volume[:, :, i]\n",
        "\n",
        "        # Resize prediction slice to match GT size if needed\n",
        "        if pred_slice.shape != gt_mask.shape:\n",
        "            pred_slice = np.array(\n",
        "                Image.fromarray(pred_slice).resize(gt_mask.shape[::-1], Image.NEAREST)\n",
        "            )\n",
        "\n",
        "        y_true_all.append(gt_mask)\n",
        "        y_pred_all.append(pred_slice)\n",
        "\n",
        "    # Convert to torch tensors\n",
        "    y_true_all = torch.tensor(np.stack(y_true_all)).unsqueeze(1).contiguous()\n",
        "    y_pred_all = torch.tensor(np.stack(y_pred_all)).unsqueeze(1).contiguous()\n",
        "\n",
        "\n",
        "    # --- Compute IoU & F1 ---\n",
        "    preds_bin = (y_pred_all > threshold).float()\n",
        "    stats = get_stats(preds_bin.long(), y_true_all.long(), mode='binary')\n",
        "    iou = iou_score(*stats).mean().item()\n",
        "    f1  = f1_score(*stats).mean().item()\n",
        "\n",
        "    # --- Compute Hausdorff distance (on first slice with signal) ---\n",
        "    y_true_np = y_true_all.squeeze().numpy()\n",
        "    y_pred_np = preds_bin.squeeze().numpy()\n",
        "    try:\n",
        "        hausdorff = directed_hausdorff(y_true_np, y_pred_np)[0]\n",
        "    except Exception:\n",
        "        hausdorff = np.nan\n",
        "\n",
        "    return {\n",
        "        \"Dice\": f1,\n",
        "        \"IoU\": iou,\n",
        "        \"Hausdorff\": hausdorff\n",
        "    }\n",
        "\n",
        "\n",
        "\n",
        "def evaluate_totalseg_testset(test_df_split,\n",
        "                              nifti_dir=\"/content/test_niftis\",\n",
        "                              results_dir=\"/content/test_results\"):\n",
        "\n",
        "    os.makedirs(nifti_dir, exist_ok=True)\n",
        "    os.makedirs(results_dir, exist_ok=True)\n",
        "\n",
        "    results_per_patient = []\n",
        "\n",
        "    for patient, df in test_df_split.groupby(\"Patient\"):\n",
        "        race   = df[\"race\"].iloc[0]   if \"race\"   in df.columns else \"unknown\"\n",
        "        gender = df[\"gender\"].iloc[0] if \"gender\" in df.columns else \"unknown\"\n",
        "\n",
        "        # Prepare input/output paths\n",
        "        nifti_input = os.path.join(nifti_dir, f\"{patient}.nii.gz\")\n",
        "        nifti_output = os.path.join(results_dir, f\"{patient}.nii\")\n",
        "\n",
        "        # Convert slices -> NIfTI\n",
        "        stack_slices_to_nifti(df, nifti_input)\n",
        "\n",
        "        # Run TotalSegmentator (saves as {patient}.nii in results_dir)\n",
        "        print(f\"🩻 Running TotalSegmentator for patient {patient} ...\")\n",
        "        totalsegmentator(nifti_input, nifti_output, ml=True)\n",
        "\n",
        "        # Prediction file\n",
        "        pred_path = os.path.join(results_dir, f\"{patient}.nii\")\n",
        "        if not os.path.exists(pred_path):\n",
        "            print(f\"⚠️ Skipping {patient}: no prediction file found.\")\n",
        "            continue\n",
        "\n",
        "        # Evaluate predictions\n",
        "        metrics = evaluate_totalseg(df[\"mask_filename\"].tolist(), pred_path)\n",
        "        metrics[\"Patient\"] = patient\n",
        "        metrics[\"race\"] = race\n",
        "        metrics[\"gender\"] = gender\n",
        "        results_per_patient.append(metrics)\n",
        "\n",
        "    results_df = pd.DataFrame(results_per_patient)\n",
        "\n",
        "    if results_df.empty:\n",
        "        print(\"⚠️ No results generated — check test set or TotalSegmentator output.\")\n",
        "        return results_df, None, None, None, None\n",
        "\n",
        "    # --- Aggregate by race ---\n",
        "    iou_by_race  = results_df.groupby(\"race\")[\"IoU\"].mean().reset_index()\n",
        "    dice_by_race = results_df.groupby(\"race\")[\"Dice\"].mean().reset_index()\n",
        "\n",
        "    # --- Aggregate by gender ---\n",
        "    iou_by_gender  = results_df.groupby(\"gender\")[\"IoU\"].mean().reset_index()\n",
        "    dice_by_gender = results_df.groupby(\"gender\")[\"Dice\"].mean().reset_index()\n",
        "\n",
        "    print(\"📊 IoU by Race:\\n\", iou_by_race)\n",
        "    print(\"📊 Dice by Race:\\n\", dice_by_race)\n",
        "    print(\"📊 IoU by Gender:\\n\", iou_by_gender)\n",
        "    print(\"📊 Dice by Gender:\\n\", dice_by_gender)\n",
        "\n",
        "    return results_df, iou_by_race, dice_by_race, iou_by_gender, dice_by_gender\n",
        "\n",
        "\n"
      ],
      "metadata": {
        "id": "dpnEuit4cUMa"
      },
      "execution_count": null,
      "outputs": []
    },
    {
      "cell_type": "code",
      "source": [
        "# Reuse val split as test split for TotalSegmentator evaluation\n",
        "test_df_split = val_df_split.copy()\n",
        "results_df, iou_by_race, dice_by_race, iou_by_gender, dice_by_gender = evaluate_totalseg_testset(\n",
        "    test_df_split\n",
        ")\n",
        "\n",
        "\n",
        "\n"
      ],
      "metadata": {
        "colab": {
          "base_uri": "https://localhost:8080/"
        },
        "id": "ybI3euH7cdw0",
        "outputId": "e713e2bd-85cd-4e37-a9c1-f67b071e79ff"
      },
      "execution_count": null,
      "outputs": [
        {
          "output_type": "stream",
          "name": "stdout",
          "text": [
            "🩻 Running TotalSegmentator for patient TCGA_CS_5393 ...\n",
            "\n",
            "If you use this tool please cite: https://pubs.rsna.org/doi/10.1148/ryai.230024\n",
            "\n",
            "Resampling...\n",
            "  Resampled in 0.29s\n",
            "Predicting part 1 of 5 ...\n"
          ]
        },
        {
          "output_type": "stream",
          "name": "stderr",
          "text": [
            "100%|██████████| 4/4 [00:00<00:00, 135.34it/s]\n"
          ]
        },
        {
          "output_type": "stream",
          "name": "stdout",
          "text": [
            "Predicting part 2 of 5 ...\n"
          ]
        },
        {
          "output_type": "stream",
          "name": "stderr",
          "text": [
            "100%|██████████| 4/4 [00:00<00:00, 127.53it/s]\n"
          ]
        },
        {
          "output_type": "stream",
          "name": "stdout",
          "text": [
            "Predicting part 3 of 5 ...\n"
          ]
        },
        {
          "output_type": "stream",
          "name": "stderr",
          "text": [
            "100%|██████████| 4/4 [00:00<00:00, 133.54it/s]\n"
          ]
        },
        {
          "output_type": "stream",
          "name": "stdout",
          "text": [
            "Predicting part 4 of 5 ...\n"
          ]
        },
        {
          "output_type": "stream",
          "name": "stderr",
          "text": [
            "100%|██████████| 4/4 [00:00<00:00, 133.98it/s]\n"
          ]
        },
        {
          "output_type": "stream",
          "name": "stdout",
          "text": [
            "Predicting part 5 of 5 ...\n"
          ]
        },
        {
          "output_type": "stream",
          "name": "stderr",
          "text": [
            "100%|██████████| 4/4 [00:00<00:00, 133.58it/s]\n"
          ]
        },
        {
          "output_type": "stream",
          "name": "stdout",
          "text": [
            "  Predicted in 44.21s\n",
            "Resampling...\n",
            "Saving segmentations...\n",
            "  Saved in 0.01s\n",
            "🩻 Running TotalSegmentator for patient TCGA_CS_5395 ...\n",
            "\n",
            "If you use this tool please cite: https://pubs.rsna.org/doi/10.1148/ryai.230024\n",
            "\n",
            "Resampling...\n",
            "  Resampled in 0.28s\n",
            "Predicting part 1 of 5 ...\n"
          ]
        },
        {
          "output_type": "stream",
          "name": "stderr",
          "text": [
            "100%|██████████| 4/4 [00:00<00:00, 136.23it/s]\n"
          ]
        },
        {
          "output_type": "stream",
          "name": "stdout",
          "text": [
            "Predicting part 2 of 5 ...\n"
          ]
        },
        {
          "output_type": "stream",
          "name": "stderr",
          "text": [
            "100%|██████████| 4/4 [00:00<00:00, 134.85it/s]\n"
          ]
        },
        {
          "output_type": "stream",
          "name": "stdout",
          "text": [
            "Predicting part 3 of 5 ...\n"
          ]
        },
        {
          "output_type": "stream",
          "name": "stderr",
          "text": [
            "100%|██████████| 4/4 [00:00<00:00, 133.76it/s]\n"
          ]
        },
        {
          "output_type": "stream",
          "name": "stdout",
          "text": [
            "Predicting part 4 of 5 ...\n"
          ]
        },
        {
          "output_type": "stream",
          "name": "stderr",
          "text": [
            "100%|██████████| 4/4 [00:00<00:00, 133.91it/s]\n"
          ]
        },
        {
          "output_type": "stream",
          "name": "stdout",
          "text": [
            "Predicting part 5 of 5 ...\n"
          ]
        },
        {
          "output_type": "stream",
          "name": "stderr",
          "text": [
            "100%|██████████| 4/4 [00:00<00:00, 130.41it/s]\n"
          ]
        },
        {
          "output_type": "stream",
          "name": "stdout",
          "text": [
            "  Predicted in 44.62s\n",
            "Resampling...\n",
            "Saving segmentations...\n",
            "  Saved in 0.01s\n",
            "🩻 Running TotalSegmentator for patient TCGA_CS_6665 ...\n",
            "\n",
            "If you use this tool please cite: https://pubs.rsna.org/doi/10.1148/ryai.230024\n",
            "\n",
            "Resampling...\n",
            "  Resampled in 0.34s\n",
            "Predicting part 1 of 5 ...\n"
          ]
        },
        {
          "output_type": "stream",
          "name": "stderr",
          "text": [
            "100%|██████████| 4/4 [00:00<00:00, 126.26it/s]\n"
          ]
        },
        {
          "output_type": "stream",
          "name": "stdout",
          "text": [
            "Predicting part 2 of 5 ...\n"
          ]
        },
        {
          "output_type": "stream",
          "name": "stderr",
          "text": [
            "100%|██████████| 4/4 [00:00<00:00, 134.35it/s]\n"
          ]
        },
        {
          "output_type": "stream",
          "name": "stdout",
          "text": [
            "Predicting part 3 of 5 ...\n"
          ]
        },
        {
          "output_type": "stream",
          "name": "stderr",
          "text": [
            "100%|██████████| 4/4 [00:00<00:00, 134.10it/s]\n"
          ]
        },
        {
          "output_type": "stream",
          "name": "stdout",
          "text": [
            "Predicting part 4 of 5 ...\n"
          ]
        },
        {
          "output_type": "stream",
          "name": "stderr",
          "text": [
            "100%|██████████| 4/4 [00:00<00:00, 133.01it/s]\n"
          ]
        },
        {
          "output_type": "stream",
          "name": "stdout",
          "text": [
            "Predicting part 5 of 5 ...\n"
          ]
        },
        {
          "output_type": "stream",
          "name": "stderr",
          "text": [
            "100%|██████████| 4/4 [00:00<00:00, 128.07it/s]\n"
          ]
        },
        {
          "output_type": "stream",
          "name": "stdout",
          "text": [
            "  Predicted in 44.54s\n",
            "Resampling...\n",
            "Saving segmentations...\n",
            "  Saved in 0.01s\n",
            "🩻 Running TotalSegmentator for patient TCGA_DU_5852 ...\n",
            "\n",
            "If you use this tool please cite: https://pubs.rsna.org/doi/10.1148/ryai.230024\n",
            "\n",
            "Resampling...\n",
            "  Resampled in 0.46s\n",
            "Predicting part 1 of 5 ...\n"
          ]
        },
        {
          "output_type": "stream",
          "name": "stderr",
          "text": [
            "100%|██████████| 4/4 [00:00<00:00, 135.38it/s]\n"
          ]
        },
        {
          "output_type": "stream",
          "name": "stdout",
          "text": [
            "Predicting part 2 of 5 ...\n"
          ]
        },
        {
          "output_type": "stream",
          "name": "stderr",
          "text": [
            "100%|██████████| 4/4 [00:00<00:00, 133.23it/s]\n"
          ]
        },
        {
          "output_type": "stream",
          "name": "stdout",
          "text": [
            "Predicting part 3 of 5 ...\n"
          ]
        },
        {
          "output_type": "stream",
          "name": "stderr",
          "text": [
            "100%|██████████| 4/4 [00:00<00:00, 133.02it/s]\n"
          ]
        },
        {
          "output_type": "stream",
          "name": "stdout",
          "text": [
            "Predicting part 4 of 5 ...\n"
          ]
        },
        {
          "output_type": "stream",
          "name": "stderr",
          "text": [
            "100%|██████████| 4/4 [00:00<00:00, 135.35it/s]\n"
          ]
        },
        {
          "output_type": "stream",
          "name": "stdout",
          "text": [
            "Predicting part 5 of 5 ...\n"
          ]
        },
        {
          "output_type": "stream",
          "name": "stderr",
          "text": [
            "100%|██████████| 4/4 [00:00<00:00, 136.03it/s]\n"
          ]
        },
        {
          "output_type": "stream",
          "name": "stdout",
          "text": [
            "  Predicted in 45.32s\n",
            "Resampling...\n",
            "Saving segmentations...\n",
            "  Saved in 0.02s\n",
            "🩻 Running TotalSegmentator for patient TCGA_DU_5853 ...\n",
            "\n",
            "If you use this tool please cite: https://pubs.rsna.org/doi/10.1148/ryai.230024\n",
            "\n",
            "Resampling...\n",
            "  Resampled in 0.46s\n",
            "Predicting part 1 of 5 ...\n"
          ]
        },
        {
          "output_type": "stream",
          "name": "stderr",
          "text": [
            "100%|██████████| 4/4 [00:00<00:00, 137.25it/s]\n"
          ]
        },
        {
          "output_type": "stream",
          "name": "stdout",
          "text": [
            "Predicting part 2 of 5 ...\n"
          ]
        },
        {
          "output_type": "stream",
          "name": "stderr",
          "text": [
            "100%|██████████| 4/4 [00:00<00:00, 134.38it/s]\n"
          ]
        },
        {
          "output_type": "stream",
          "name": "stdout",
          "text": [
            "Predicting part 3 of 5 ...\n"
          ]
        },
        {
          "output_type": "stream",
          "name": "stderr",
          "text": [
            "100%|██████████| 4/4 [00:00<00:00, 132.60it/s]\n"
          ]
        },
        {
          "output_type": "stream",
          "name": "stdout",
          "text": [
            "Predicting part 4 of 5 ...\n"
          ]
        },
        {
          "output_type": "stream",
          "name": "stderr",
          "text": [
            "100%|██████████| 4/4 [00:00<00:00, 135.36it/s]\n"
          ]
        },
        {
          "output_type": "stream",
          "name": "stdout",
          "text": [
            "Predicting part 5 of 5 ...\n"
          ]
        },
        {
          "output_type": "stream",
          "name": "stderr",
          "text": [
            "100%|██████████| 4/4 [00:00<00:00, 134.46it/s]\n"
          ]
        },
        {
          "output_type": "stream",
          "name": "stdout",
          "text": [
            "  Predicted in 45.46s\n",
            "Resampling...\n",
            "Saving segmentations...\n",
            "  Saved in 0.02s\n",
            "🩻 Running TotalSegmentator for patient TCGA_DU_5872 ...\n",
            "\n",
            "If you use this tool please cite: https://pubs.rsna.org/doi/10.1148/ryai.230024\n",
            "\n",
            "Resampling...\n",
            "  Resampled in 0.83s\n",
            "Predicting part 1 of 5 ...\n"
          ]
        },
        {
          "output_type": "stream",
          "name": "stderr",
          "text": [
            "100%|██████████| 4/4 [00:00<00:00, 134.17it/s]\n"
          ]
        },
        {
          "output_type": "stream",
          "name": "stdout",
          "text": [
            "Predicting part 2 of 5 ...\n"
          ]
        },
        {
          "output_type": "stream",
          "name": "stderr",
          "text": [
            "100%|██████████| 4/4 [00:00<00:00, 134.20it/s]\n"
          ]
        },
        {
          "output_type": "stream",
          "name": "stdout",
          "text": [
            "Predicting part 3 of 5 ...\n"
          ]
        },
        {
          "output_type": "stream",
          "name": "stderr",
          "text": [
            "100%|██████████| 4/4 [00:00<00:00, 135.11it/s]\n"
          ]
        },
        {
          "output_type": "stream",
          "name": "stdout",
          "text": [
            "Predicting part 4 of 5 ...\n"
          ]
        },
        {
          "output_type": "stream",
          "name": "stderr",
          "text": [
            "100%|██████████| 4/4 [00:00<00:00, 128.96it/s]\n"
          ]
        },
        {
          "output_type": "stream",
          "name": "stdout",
          "text": [
            "Predicting part 5 of 5 ...\n"
          ]
        },
        {
          "output_type": "stream",
          "name": "stderr",
          "text": [
            "100%|██████████| 4/4 [00:00<00:00, 136.21it/s]\n"
          ]
        },
        {
          "output_type": "stream",
          "name": "stdout",
          "text": [
            "  Predicted in 46.63s\n",
            "Resampling...\n",
            "Saving segmentations...\n",
            "  Saved in 0.04s\n",
            "🩻 Running TotalSegmentator for patient TCGA_DU_7300 ...\n",
            "\n",
            "If you use this tool please cite: https://pubs.rsna.org/doi/10.1148/ryai.230024\n",
            "\n",
            "Resampling...\n",
            "  Resampled in 0.45s\n",
            "Predicting part 1 of 5 ...\n"
          ]
        },
        {
          "output_type": "stream",
          "name": "stderr",
          "text": [
            "100%|██████████| 4/4 [00:00<00:00, 133.96it/s]\n"
          ]
        },
        {
          "output_type": "stream",
          "name": "stdout",
          "text": [
            "Predicting part 2 of 5 ...\n"
          ]
        },
        {
          "output_type": "stream",
          "name": "stderr",
          "text": [
            "100%|██████████| 4/4 [00:00<00:00, 134.49it/s]\n"
          ]
        },
        {
          "output_type": "stream",
          "name": "stdout",
          "text": [
            "Predicting part 3 of 5 ...\n"
          ]
        },
        {
          "output_type": "stream",
          "name": "stderr",
          "text": [
            "100%|██████████| 4/4 [00:00<00:00, 134.40it/s]\n"
          ]
        },
        {
          "output_type": "stream",
          "name": "stdout",
          "text": [
            "Predicting part 4 of 5 ...\n"
          ]
        },
        {
          "output_type": "stream",
          "name": "stderr",
          "text": [
            "100%|██████████| 4/4 [00:00<00:00, 135.16it/s]\n"
          ]
        },
        {
          "output_type": "stream",
          "name": "stdout",
          "text": [
            "Predicting part 5 of 5 ...\n"
          ]
        },
        {
          "output_type": "stream",
          "name": "stderr",
          "text": [
            "100%|██████████| 4/4 [00:00<00:00, 134.75it/s]\n"
          ]
        },
        {
          "output_type": "stream",
          "name": "stdout",
          "text": [
            "  Predicted in 45.08s\n",
            "Resampling...\n",
            "Saving segmentations...\n",
            "  Saved in 0.02s\n",
            "🩻 Running TotalSegmentator for patient TCGA_DU_7309 ...\n",
            "\n",
            "If you use this tool please cite: https://pubs.rsna.org/doi/10.1148/ryai.230024\n",
            "\n",
            "Resampling...\n",
            "  Resampled in 0.52s\n",
            "Predicting part 1 of 5 ...\n"
          ]
        },
        {
          "output_type": "stream",
          "name": "stderr",
          "text": [
            "100%|██████████| 4/4 [00:00<00:00, 131.40it/s]\n"
          ]
        },
        {
          "output_type": "stream",
          "name": "stdout",
          "text": [
            "Predicting part 2 of 5 ...\n"
          ]
        },
        {
          "output_type": "stream",
          "name": "stderr",
          "text": [
            "100%|██████████| 4/4 [00:00<00:00, 131.85it/s]\n"
          ]
        },
        {
          "output_type": "stream",
          "name": "stdout",
          "text": [
            "Predicting part 3 of 5 ...\n"
          ]
        },
        {
          "output_type": "stream",
          "name": "stderr",
          "text": [
            "100%|██████████| 4/4 [00:00<00:00, 129.53it/s]\n"
          ]
        },
        {
          "output_type": "stream",
          "name": "stdout",
          "text": [
            "Predicting part 4 of 5 ...\n"
          ]
        },
        {
          "output_type": "stream",
          "name": "stderr",
          "text": [
            "100%|██████████| 4/4 [00:00<00:00, 138.05it/s]\n"
          ]
        },
        {
          "output_type": "stream",
          "name": "stdout",
          "text": [
            "Predicting part 5 of 5 ...\n"
          ]
        },
        {
          "output_type": "stream",
          "name": "stderr",
          "text": [
            "100%|██████████| 4/4 [00:00<00:00, 131.82it/s]\n"
          ]
        },
        {
          "output_type": "stream",
          "name": "stdout",
          "text": [
            "  Predicted in 45.31s\n",
            "Resampling...\n",
            "Saving segmentations...\n",
            "  Saved in 0.02s\n",
            "🩻 Running TotalSegmentator for patient TCGA_DU_8163 ...\n",
            "\n",
            "If you use this tool please cite: https://pubs.rsna.org/doi/10.1148/ryai.230024\n",
            "\n",
            "Resampling...\n",
            "  Resampled in 0.45s\n",
            "Predicting part 1 of 5 ...\n"
          ]
        },
        {
          "output_type": "stream",
          "name": "stderr",
          "text": [
            "100%|██████████| 4/4 [00:00<00:00, 130.02it/s]\n"
          ]
        },
        {
          "output_type": "stream",
          "name": "stdout",
          "text": [
            "Predicting part 2 of 5 ...\n"
          ]
        },
        {
          "output_type": "stream",
          "name": "stderr",
          "text": [
            "100%|██████████| 4/4 [00:00<00:00, 138.38it/s]\n"
          ]
        },
        {
          "output_type": "stream",
          "name": "stdout",
          "text": [
            "Predicting part 3 of 5 ...\n"
          ]
        },
        {
          "output_type": "stream",
          "name": "stderr",
          "text": [
            "100%|██████████| 4/4 [00:00<00:00, 132.34it/s]\n"
          ]
        },
        {
          "output_type": "stream",
          "name": "stdout",
          "text": [
            "Predicting part 4 of 5 ...\n"
          ]
        },
        {
          "output_type": "stream",
          "name": "stderr",
          "text": [
            "100%|██████████| 4/4 [00:00<00:00, 131.70it/s]\n"
          ]
        },
        {
          "output_type": "stream",
          "name": "stdout",
          "text": [
            "Predicting part 5 of 5 ...\n"
          ]
        },
        {
          "output_type": "stream",
          "name": "stderr",
          "text": [
            "100%|██████████| 4/4 [00:00<00:00, 133.73it/s]\n"
          ]
        },
        {
          "output_type": "stream",
          "name": "stdout",
          "text": [
            "  Predicted in 45.35s\n",
            "Resampling...\n",
            "Saving segmentations...\n",
            "  Saved in 0.02s\n",
            "🩻 Running TotalSegmentator for patient TCGA_DU_8166 ...\n",
            "\n",
            "If you use this tool please cite: https://pubs.rsna.org/doi/10.1148/ryai.230024\n",
            "\n",
            "Resampling...\n",
            "  Resampled in 0.46s\n",
            "Predicting part 1 of 5 ...\n"
          ]
        },
        {
          "output_type": "stream",
          "name": "stderr",
          "text": [
            "100%|██████████| 4/4 [00:00<00:00, 134.20it/s]\n"
          ]
        },
        {
          "output_type": "stream",
          "name": "stdout",
          "text": [
            "Predicting part 2 of 5 ...\n"
          ]
        },
        {
          "output_type": "stream",
          "name": "stderr",
          "text": [
            "100%|██████████| 4/4 [00:00<00:00, 135.42it/s]\n"
          ]
        },
        {
          "output_type": "stream",
          "name": "stdout",
          "text": [
            "Predicting part 3 of 5 ...\n"
          ]
        },
        {
          "output_type": "stream",
          "name": "stderr",
          "text": [
            "100%|██████████| 4/4 [00:00<00:00, 135.72it/s]\n"
          ]
        },
        {
          "output_type": "stream",
          "name": "stdout",
          "text": [
            "Predicting part 4 of 5 ...\n"
          ]
        },
        {
          "output_type": "stream",
          "name": "stderr",
          "text": [
            "100%|██████████| 4/4 [00:00<00:00, 135.32it/s]\n"
          ]
        },
        {
          "output_type": "stream",
          "name": "stdout",
          "text": [
            "Predicting part 5 of 5 ...\n"
          ]
        },
        {
          "output_type": "stream",
          "name": "stderr",
          "text": [
            "100%|██████████| 4/4 [00:00<00:00, 130.50it/s]\n"
          ]
        },
        {
          "output_type": "stream",
          "name": "stdout",
          "text": [
            "  Predicted in 45.42s\n",
            "Resampling...\n",
            "Saving segmentations...\n",
            "  Saved in 0.02s\n",
            "🩻 Running TotalSegmentator for patient TCGA_DU_A5TU ...\n",
            "\n",
            "If you use this tool please cite: https://pubs.rsna.org/doi/10.1148/ryai.230024\n",
            "\n",
            "Resampling...\n",
            "  Resampled in 0.30s\n",
            "Predicting part 1 of 5 ...\n"
          ]
        },
        {
          "output_type": "stream",
          "name": "stderr",
          "text": [
            "100%|██████████| 4/4 [00:00<00:00, 132.92it/s]\n"
          ]
        },
        {
          "output_type": "stream",
          "name": "stdout",
          "text": [
            "Predicting part 2 of 5 ...\n"
          ]
        },
        {
          "output_type": "stream",
          "name": "stderr",
          "text": [
            "100%|██████████| 4/4 [00:00<00:00, 133.65it/s]\n"
          ]
        },
        {
          "output_type": "stream",
          "name": "stdout",
          "text": [
            "Predicting part 3 of 5 ...\n"
          ]
        },
        {
          "output_type": "stream",
          "name": "stderr",
          "text": [
            "100%|██████████| 4/4 [00:00<00:00, 128.48it/s]\n"
          ]
        },
        {
          "output_type": "stream",
          "name": "stdout",
          "text": [
            "Predicting part 4 of 5 ...\n"
          ]
        },
        {
          "output_type": "stream",
          "name": "stderr",
          "text": [
            "100%|██████████| 4/4 [00:00<00:00, 134.95it/s]\n"
          ]
        },
        {
          "output_type": "stream",
          "name": "stdout",
          "text": [
            "Predicting part 5 of 5 ...\n"
          ]
        },
        {
          "output_type": "stream",
          "name": "stderr",
          "text": [
            "100%|██████████| 4/4 [00:00<00:00, 135.96it/s]\n"
          ]
        },
        {
          "output_type": "stream",
          "name": "stdout",
          "text": [
            "  Predicted in 44.69s\n",
            "Resampling...\n",
            "Saving segmentations...\n",
            "  Saved in 0.01s\n",
            "🩻 Running TotalSegmentator for patient TCGA_EZ_7264 ...\n",
            "\n",
            "If you use this tool please cite: https://pubs.rsna.org/doi/10.1148/ryai.230024\n",
            "\n",
            "Resampling...\n",
            "  Resampled in 0.34s\n",
            "Predicting part 1 of 5 ...\n"
          ]
        },
        {
          "output_type": "stream",
          "name": "stderr",
          "text": [
            "100%|██████████| 4/4 [00:00<00:00, 133.18it/s]\n"
          ]
        },
        {
          "output_type": "stream",
          "name": "stdout",
          "text": [
            "Predicting part 2 of 5 ...\n"
          ]
        },
        {
          "output_type": "stream",
          "name": "stderr",
          "text": [
            "100%|██████████| 4/4 [00:00<00:00, 131.64it/s]\n"
          ]
        },
        {
          "output_type": "stream",
          "name": "stdout",
          "text": [
            "Predicting part 3 of 5 ...\n"
          ]
        },
        {
          "output_type": "stream",
          "name": "stderr",
          "text": [
            "100%|██████████| 4/4 [00:00<00:00, 136.15it/s]\n"
          ]
        },
        {
          "output_type": "stream",
          "name": "stdout",
          "text": [
            "Predicting part 4 of 5 ...\n"
          ]
        },
        {
          "output_type": "stream",
          "name": "stderr",
          "text": [
            "100%|██████████| 4/4 [00:00<00:00, 133.75it/s]\n"
          ]
        },
        {
          "output_type": "stream",
          "name": "stdout",
          "text": [
            "Predicting part 5 of 5 ...\n"
          ]
        },
        {
          "output_type": "stream",
          "name": "stderr",
          "text": [
            "100%|██████████| 4/4 [00:00<00:00, 132.90it/s]\n"
          ]
        },
        {
          "output_type": "stream",
          "name": "stdout",
          "text": [
            "  Predicted in 44.84s\n",
            "Resampling...\n",
            "Saving segmentations...\n",
            "  Saved in 0.01s\n",
            "🩻 Running TotalSegmentator for patient TCGA_FG_5964 ...\n",
            "\n",
            "If you use this tool please cite: https://pubs.rsna.org/doi/10.1148/ryai.230024\n",
            "\n",
            "Resampling...\n",
            "  Resampled in 0.34s\n",
            "Predicting part 1 of 5 ...\n"
          ]
        },
        {
          "output_type": "stream",
          "name": "stderr",
          "text": [
            "100%|██████████| 4/4 [00:00<00:00, 133.70it/s]\n"
          ]
        },
        {
          "output_type": "stream",
          "name": "stdout",
          "text": [
            "Predicting part 2 of 5 ...\n"
          ]
        },
        {
          "output_type": "stream",
          "name": "stderr",
          "text": [
            "100%|██████████| 4/4 [00:00<00:00, 131.30it/s]\n"
          ]
        },
        {
          "output_type": "stream",
          "name": "stdout",
          "text": [
            "Predicting part 3 of 5 ...\n"
          ]
        },
        {
          "output_type": "stream",
          "name": "stderr",
          "text": [
            "100%|██████████| 4/4 [00:00<00:00, 134.02it/s]\n"
          ]
        },
        {
          "output_type": "stream",
          "name": "stdout",
          "text": [
            "Predicting part 4 of 5 ...\n"
          ]
        },
        {
          "output_type": "stream",
          "name": "stderr",
          "text": [
            "100%|██████████| 4/4 [00:00<00:00, 129.28it/s]\n"
          ]
        },
        {
          "output_type": "stream",
          "name": "stdout",
          "text": [
            "Predicting part 5 of 5 ...\n"
          ]
        },
        {
          "output_type": "stream",
          "name": "stderr",
          "text": [
            "100%|██████████| 4/4 [00:00<00:00, 133.99it/s]\n"
          ]
        },
        {
          "output_type": "stream",
          "name": "stdout",
          "text": [
            "  Predicted in 44.96s\n",
            "Resampling...\n",
            "Saving segmentations...\n",
            "  Saved in 0.01s\n",
            "🩻 Running TotalSegmentator for patient TCGA_FG_6690 ...\n",
            "\n",
            "If you use this tool please cite: https://pubs.rsna.org/doi/10.1148/ryai.230024\n",
            "\n",
            "Resampling...\n",
            "  Resampled in 0.72s\n",
            "Predicting part 1 of 5 ...\n"
          ]
        },
        {
          "output_type": "stream",
          "name": "stderr",
          "text": [
            "100%|██████████| 4/4 [00:00<00:00, 133.70it/s]\n"
          ]
        },
        {
          "output_type": "stream",
          "name": "stdout",
          "text": [
            "Predicting part 2 of 5 ...\n"
          ]
        },
        {
          "output_type": "stream",
          "name": "stderr",
          "text": [
            "100%|██████████| 4/4 [00:00<00:00, 134.37it/s]\n"
          ]
        },
        {
          "output_type": "stream",
          "name": "stdout",
          "text": [
            "Predicting part 3 of 5 ...\n"
          ]
        },
        {
          "output_type": "stream",
          "name": "stderr",
          "text": [
            "100%|██████████| 4/4 [00:00<00:00, 135.61it/s]\n"
          ]
        },
        {
          "output_type": "stream",
          "name": "stdout",
          "text": [
            "Predicting part 4 of 5 ...\n"
          ]
        },
        {
          "output_type": "stream",
          "name": "stderr",
          "text": [
            "100%|██████████| 4/4 [00:00<00:00, 133.67it/s]\n"
          ]
        },
        {
          "output_type": "stream",
          "name": "stdout",
          "text": [
            "Predicting part 5 of 5 ...\n"
          ]
        },
        {
          "output_type": "stream",
          "name": "stderr",
          "text": [
            "100%|██████████| 4/4 [00:00<00:00, 131.18it/s]\n"
          ]
        },
        {
          "output_type": "stream",
          "name": "stdout",
          "text": [
            "  Predicted in 46.52s\n",
            "Resampling...\n",
            "Saving segmentations...\n",
            "  Saved in 0.03s\n",
            "🩻 Running TotalSegmentator for patient TCGA_FG_7637 ...\n",
            "\n",
            "If you use this tool please cite: https://pubs.rsna.org/doi/10.1148/ryai.230024\n",
            "\n",
            "Resampling...\n",
            "  Resampled in 0.62s\n",
            "Predicting part 1 of 5 ...\n"
          ]
        },
        {
          "output_type": "stream",
          "name": "stderr",
          "text": [
            "100%|██████████| 4/4 [00:00<00:00, 133.14it/s]\n"
          ]
        },
        {
          "output_type": "stream",
          "name": "stdout",
          "text": [
            "Predicting part 2 of 5 ...\n"
          ]
        },
        {
          "output_type": "stream",
          "name": "stderr",
          "text": [
            "100%|██████████| 4/4 [00:00<00:00, 133.09it/s]\n"
          ]
        },
        {
          "output_type": "stream",
          "name": "stdout",
          "text": [
            "Predicting part 3 of 5 ...\n"
          ]
        },
        {
          "output_type": "stream",
          "name": "stderr",
          "text": [
            "100%|██████████| 4/4 [00:00<00:00, 134.74it/s]\n"
          ]
        },
        {
          "output_type": "stream",
          "name": "stdout",
          "text": [
            "Predicting part 4 of 5 ...\n"
          ]
        },
        {
          "output_type": "stream",
          "name": "stderr",
          "text": [
            "100%|██████████| 4/4 [00:00<00:00, 118.02it/s]\n"
          ]
        },
        {
          "output_type": "stream",
          "name": "stdout",
          "text": [
            "Predicting part 5 of 5 ...\n"
          ]
        },
        {
          "output_type": "stream",
          "name": "stderr",
          "text": [
            "100%|██████████| 4/4 [00:00<00:00, 137.09it/s]\n"
          ]
        },
        {
          "output_type": "stream",
          "name": "stdout",
          "text": [
            "  Predicted in 46.15s\n",
            "Resampling...\n",
            "Saving segmentations...\n",
            "  Saved in 0.02s\n",
            "🩻 Running TotalSegmentator for patient TCGA_FG_A4MT ...\n",
            "\n",
            "If you use this tool please cite: https://pubs.rsna.org/doi/10.1148/ryai.230024\n",
            "\n",
            "Resampling...\n",
            "  Resampled in 0.59s\n",
            "Predicting part 1 of 5 ...\n"
          ]
        },
        {
          "output_type": "stream",
          "name": "stderr",
          "text": [
            "100%|██████████| 4/4 [00:00<00:00, 134.17it/s]\n"
          ]
        },
        {
          "output_type": "stream",
          "name": "stdout",
          "text": [
            "Predicting part 2 of 5 ...\n"
          ]
        },
        {
          "output_type": "stream",
          "name": "stderr",
          "text": [
            "100%|██████████| 4/4 [00:00<00:00, 130.56it/s]\n"
          ]
        },
        {
          "output_type": "stream",
          "name": "stdout",
          "text": [
            "Predicting part 3 of 5 ...\n"
          ]
        },
        {
          "output_type": "stream",
          "name": "stderr",
          "text": [
            "100%|██████████| 4/4 [00:00<00:00, 130.72it/s]\n"
          ]
        },
        {
          "output_type": "stream",
          "name": "stdout",
          "text": [
            "Predicting part 4 of 5 ...\n"
          ]
        },
        {
          "output_type": "stream",
          "name": "stderr",
          "text": [
            "100%|██████████| 4/4 [00:00<00:00, 132.89it/s]\n"
          ]
        },
        {
          "output_type": "stream",
          "name": "stdout",
          "text": [
            "Predicting part 5 of 5 ...\n"
          ]
        },
        {
          "output_type": "stream",
          "name": "stderr",
          "text": [
            "100%|██████████| 4/4 [00:00<00:00, 132.20it/s]\n"
          ]
        },
        {
          "output_type": "stream",
          "name": "stdout",
          "text": [
            "  Predicted in 45.80s\n",
            "Resampling...\n",
            "Saving segmentations...\n",
            "  Saved in 0.03s\n",
            "🩻 Running TotalSegmentator for patient TCGA_HT_7602 ...\n",
            "\n",
            "If you use this tool please cite: https://pubs.rsna.org/doi/10.1148/ryai.230024\n",
            "\n",
            "Resampling...\n",
            "  Resampled in 0.28s\n",
            "Predicting part 1 of 5 ...\n"
          ]
        },
        {
          "output_type": "stream",
          "name": "stderr",
          "text": [
            "100%|██████████| 4/4 [00:00<00:00, 133.31it/s]\n"
          ]
        },
        {
          "output_type": "stream",
          "name": "stdout",
          "text": [
            "Predicting part 2 of 5 ...\n"
          ]
        },
        {
          "output_type": "stream",
          "name": "stderr",
          "text": [
            "100%|██████████| 4/4 [00:00<00:00, 134.16it/s]\n"
          ]
        },
        {
          "output_type": "stream",
          "name": "stdout",
          "text": [
            "Predicting part 3 of 5 ...\n"
          ]
        },
        {
          "output_type": "stream",
          "name": "stderr",
          "text": [
            "100%|██████████| 4/4 [00:00<00:00, 133.82it/s]\n"
          ]
        },
        {
          "output_type": "stream",
          "name": "stdout",
          "text": [
            "Predicting part 4 of 5 ...\n"
          ]
        },
        {
          "output_type": "stream",
          "name": "stderr",
          "text": [
            "100%|██████████| 4/4 [00:00<00:00, 131.65it/s]\n"
          ]
        },
        {
          "output_type": "stream",
          "name": "stdout",
          "text": [
            "Predicting part 5 of 5 ...\n"
          ]
        },
        {
          "output_type": "stream",
          "name": "stderr",
          "text": [
            "100%|██████████| 4/4 [00:00<00:00, 131.33it/s]\n"
          ]
        },
        {
          "output_type": "stream",
          "name": "stdout",
          "text": [
            "  Predicted in 44.72s\n",
            "Resampling...\n",
            "Saving segmentations...\n",
            "  Saved in 0.01s\n",
            "🩻 Running TotalSegmentator for patient TCGA_HT_7616 ...\n",
            "\n",
            "If you use this tool please cite: https://pubs.rsna.org/doi/10.1148/ryai.230024\n",
            "\n",
            "Resampling...\n",
            "  Resampled in 0.40s\n",
            "Predicting part 1 of 5 ...\n"
          ]
        },
        {
          "output_type": "stream",
          "name": "stderr",
          "text": [
            "100%|██████████| 4/4 [00:00<00:00, 125.96it/s]\n"
          ]
        },
        {
          "output_type": "stream",
          "name": "stdout",
          "text": [
            "Predicting part 2 of 5 ...\n"
          ]
        },
        {
          "output_type": "stream",
          "name": "stderr",
          "text": [
            "100%|██████████| 4/4 [00:00<00:00, 133.66it/s]\n"
          ]
        },
        {
          "output_type": "stream",
          "name": "stdout",
          "text": [
            "Predicting part 3 of 5 ...\n"
          ]
        },
        {
          "output_type": "stream",
          "name": "stderr",
          "text": [
            "100%|██████████| 4/4 [00:00<00:00, 133.35it/s]\n"
          ]
        },
        {
          "output_type": "stream",
          "name": "stdout",
          "text": [
            "Predicting part 4 of 5 ...\n"
          ]
        },
        {
          "output_type": "stream",
          "name": "stderr",
          "text": [
            "100%|██████████| 4/4 [00:00<00:00, 132.33it/s]\n"
          ]
        },
        {
          "output_type": "stream",
          "name": "stdout",
          "text": [
            "Predicting part 5 of 5 ...\n"
          ]
        },
        {
          "output_type": "stream",
          "name": "stderr",
          "text": [
            "100%|██████████| 4/4 [00:00<00:00, 129.21it/s]\n"
          ]
        },
        {
          "output_type": "stream",
          "name": "stdout",
          "text": [
            "  Predicted in 45.20s\n",
            "Resampling...\n",
            "Saving segmentations...\n",
            "  Saved in 0.01s\n",
            "🩻 Running TotalSegmentator for patient TCGA_HT_7692 ...\n",
            "\n",
            "If you use this tool please cite: https://pubs.rsna.org/doi/10.1148/ryai.230024\n",
            "\n",
            "Resampling...\n",
            "  Resampled in 0.28s\n",
            "Predicting part 1 of 5 ...\n"
          ]
        },
        {
          "output_type": "stream",
          "name": "stderr",
          "text": [
            "100%|██████████| 4/4 [00:00<00:00, 127.63it/s]\n"
          ]
        },
        {
          "output_type": "stream",
          "name": "stdout",
          "text": [
            "Predicting part 2 of 5 ...\n"
          ]
        },
        {
          "output_type": "stream",
          "name": "stderr",
          "text": [
            "100%|██████████| 4/4 [00:00<00:00, 131.04it/s]\n"
          ]
        },
        {
          "output_type": "stream",
          "name": "stdout",
          "text": [
            "Predicting part 3 of 5 ...\n"
          ]
        },
        {
          "output_type": "stream",
          "name": "stderr",
          "text": [
            "100%|██████████| 4/4 [00:00<00:00, 131.33it/s]\n"
          ]
        },
        {
          "output_type": "stream",
          "name": "stdout",
          "text": [
            "Predicting part 4 of 5 ...\n"
          ]
        },
        {
          "output_type": "stream",
          "name": "stderr",
          "text": [
            "100%|██████████| 4/4 [00:00<00:00, 129.85it/s]\n"
          ]
        },
        {
          "output_type": "stream",
          "name": "stdout",
          "text": [
            "Predicting part 5 of 5 ...\n"
          ]
        },
        {
          "output_type": "stream",
          "name": "stderr",
          "text": [
            "100%|██████████| 4/4 [00:00<00:00, 132.52it/s]\n"
          ]
        },
        {
          "output_type": "stream",
          "name": "stdout",
          "text": [
            "  Predicted in 44.63s\n",
            "Resampling...\n",
            "Saving segmentations...\n",
            "  Saved in 0.01s\n",
            "🩻 Running TotalSegmentator for patient TCGA_HT_7860 ...\n",
            "\n",
            "If you use this tool please cite: https://pubs.rsna.org/doi/10.1148/ryai.230024\n",
            "\n",
            "Resampling...\n",
            "  Resampled in 0.31s\n",
            "Predicting part 1 of 5 ...\n"
          ]
        },
        {
          "output_type": "stream",
          "name": "stderr",
          "text": [
            "100%|██████████| 4/4 [00:00<00:00, 132.00it/s]\n"
          ]
        },
        {
          "output_type": "stream",
          "name": "stdout",
          "text": [
            "Predicting part 2 of 5 ...\n"
          ]
        },
        {
          "output_type": "stream",
          "name": "stderr",
          "text": [
            "100%|██████████| 4/4 [00:00<00:00, 131.73it/s]\n"
          ]
        },
        {
          "output_type": "stream",
          "name": "stdout",
          "text": [
            "Predicting part 3 of 5 ...\n"
          ]
        },
        {
          "output_type": "stream",
          "name": "stderr",
          "text": [
            "100%|██████████| 4/4 [00:00<00:00, 131.64it/s]\n"
          ]
        },
        {
          "output_type": "stream",
          "name": "stdout",
          "text": [
            "Predicting part 4 of 5 ...\n"
          ]
        },
        {
          "output_type": "stream",
          "name": "stderr",
          "text": [
            "100%|██████████| 4/4 [00:00<00:00, 133.99it/s]\n"
          ]
        },
        {
          "output_type": "stream",
          "name": "stdout",
          "text": [
            "Predicting part 5 of 5 ...\n"
          ]
        },
        {
          "output_type": "stream",
          "name": "stderr",
          "text": [
            "100%|██████████| 4/4 [00:00<00:00, 134.56it/s]\n"
          ]
        },
        {
          "output_type": "stream",
          "name": "stdout",
          "text": [
            "  Predicted in 44.90s\n",
            "Resampling...\n",
            "Saving segmentations...\n",
            "  Saved in 0.01s\n",
            "🩻 Running TotalSegmentator for patient TCGA_HT_7881 ...\n",
            "\n",
            "If you use this tool please cite: https://pubs.rsna.org/doi/10.1148/ryai.230024\n",
            "\n",
            "Resampling...\n",
            "  Resampled in 0.94s\n",
            "Predicting part 1 of 5 ...\n"
          ]
        },
        {
          "output_type": "stream",
          "name": "stderr",
          "text": [
            "100%|██████████| 4/4 [00:00<00:00, 132.68it/s]\n"
          ]
        },
        {
          "output_type": "stream",
          "name": "stdout",
          "text": [
            "Predicting part 2 of 5 ...\n"
          ]
        },
        {
          "output_type": "stream",
          "name": "stderr",
          "text": [
            "100%|██████████| 4/4 [00:00<00:00, 131.64it/s]\n"
          ]
        },
        {
          "output_type": "stream",
          "name": "stdout",
          "text": [
            "Predicting part 3 of 5 ...\n"
          ]
        },
        {
          "output_type": "stream",
          "name": "stderr",
          "text": [
            "100%|██████████| 4/4 [00:00<00:00, 131.67it/s]\n"
          ]
        },
        {
          "output_type": "stream",
          "name": "stdout",
          "text": [
            "Predicting part 4 of 5 ...\n"
          ]
        },
        {
          "output_type": "stream",
          "name": "stderr",
          "text": [
            "100%|██████████| 4/4 [00:00<00:00, 132.93it/s]\n"
          ]
        },
        {
          "output_type": "stream",
          "name": "stdout",
          "text": [
            "Predicting part 5 of 5 ...\n"
          ]
        },
        {
          "output_type": "stream",
          "name": "stderr",
          "text": [
            "100%|██████████| 4/4 [00:00<00:00, 131.04it/s]\n"
          ]
        },
        {
          "output_type": "stream",
          "name": "stdout",
          "text": [
            "  Predicted in 47.14s\n",
            "Resampling...\n",
            "Saving segmentations...\n",
            "  Saved in 0.05s\n",
            "🩻 Running TotalSegmentator for patient TCGA_HT_7884 ...\n",
            "\n",
            "If you use this tool please cite: https://pubs.rsna.org/doi/10.1148/ryai.230024\n",
            "\n",
            "Resampling...\n",
            "  Resampled in 0.28s\n",
            "Predicting part 1 of 5 ...\n"
          ]
        },
        {
          "output_type": "stream",
          "name": "stderr",
          "text": [
            "100%|██████████| 4/4 [00:00<00:00, 132.94it/s]\n"
          ]
        },
        {
          "output_type": "stream",
          "name": "stdout",
          "text": [
            "Predicting part 2 of 5 ...\n"
          ]
        },
        {
          "output_type": "stream",
          "name": "stderr",
          "text": [
            "100%|██████████| 4/4 [00:00<00:00, 135.24it/s]\n"
          ]
        },
        {
          "output_type": "stream",
          "name": "stdout",
          "text": [
            "Predicting part 3 of 5 ...\n"
          ]
        },
        {
          "output_type": "stream",
          "name": "stderr",
          "text": [
            "100%|██████████| 4/4 [00:00<00:00, 134.26it/s]\n"
          ]
        },
        {
          "output_type": "stream",
          "name": "stdout",
          "text": [
            "Predicting part 4 of 5 ...\n"
          ]
        },
        {
          "output_type": "stream",
          "name": "stderr",
          "text": [
            "100%|██████████| 4/4 [00:00<00:00, 128.94it/s]\n"
          ]
        },
        {
          "output_type": "stream",
          "name": "stdout",
          "text": [
            "Predicting part 5 of 5 ...\n"
          ]
        },
        {
          "output_type": "stream",
          "name": "stderr",
          "text": [
            "100%|██████████| 4/4 [00:00<00:00, 133.46it/s]\n"
          ]
        },
        {
          "output_type": "stream",
          "name": "stdout",
          "text": [
            "  Predicted in 44.91s\n",
            "Resampling...\n",
            "Saving segmentations...\n",
            "  Saved in 0.01s\n",
            "📊 IoU by Race:\n",
            "    race       IoU\n",
            "0   2.0  0.559096\n",
            "1   3.0  0.393429\n",
            "📊 Dice by Race:\n",
            "    race      Dice\n",
            "0   2.0  0.559096\n",
            "1   3.0  0.395961\n",
            "📊 IoU by Gender:\n",
            "    gender       IoU\n",
            "0     1.0  0.378896\n",
            "1     2.0  0.453144\n",
            "📊 Dice by Gender:\n",
            "    gender      Dice\n",
            "0     1.0  0.383269\n",
            "1     2.0  0.453144\n"
          ]
        }
      ]
    },
    {
      "cell_type": "code",
      "execution_count": null,
      "metadata": {
        "id": "aBx9mT1Ik-Fc",
        "colab": {
          "base_uri": "https://localhost:8080/",
          "height": 205,
          "referenced_widgets": [
            "c3b701ece6994eada240975a87dd4a79",
            "62e7e4b6567b429f96eac83c7d522654",
            "e073ac089d4442c2aff9382b9d6212af",
            "c2285e43b3644754b66ae2c8cfe0c7e0",
            "92491d75942a415e97226543bc0e4108",
            "82891d62662b4e8288a8b44511801380",
            "b0f970cb6f2943a19329ee8febc53c38",
            "f17b8fc9e99e4cd593b57afc19e1d5f0",
            "88173ccd85dc44f49896ddd85afa5e77",
            "aa4e0b21c55140dea3963a65bf334086",
            "f8cdb87ef1e84a19872731b9418dd681",
            "51d17aa27aeb4a63a392608693f2ae5f",
            "6f517008fa264c7fbd9ffd6f62a4f94f",
            "ace6181de8364365ac9c870e378fb0a9",
            "5e30c86f55f843cd88537e4d275bb1d9",
            "e47f3a11b4fc4dcaa9410d570cb0cee3",
            "88d408f92805440aa5c62a05552dd4d7",
            "bdbea6582b88467c9e13f91823d932b8",
            "eb44d0f4ac4b4cc883dce001ca3340ad",
            "ef4ef0a879de4e088796e17d7cce3757",
            "0ab5bf15ce2c41939e7e677b34dacbbb",
            "37a47398b8fd4cf1bbb122f8a663aa71"
          ]
        },
        "outputId": "481ec5de-27bd-46c2-90db-29c5527936de"
      },
      "outputs": [
        {
          "output_type": "stream",
          "name": "stderr",
          "text": [
            "/usr/local/lib/python3.12/dist-packages/huggingface_hub/utils/_auth.py:94: UserWarning: \n",
            "The secret `HF_TOKEN` does not exist in your Colab secrets.\n",
            "To authenticate with the Hugging Face Hub, create a token in your settings tab (https://huggingface.co/settings/tokens), set it as secret in your Google Colab and restart your session.\n",
            "You will be able to reuse this secret in all of your notebooks.\n",
            "Please note that authentication is recommended but still optional to access public models or datasets.\n",
            "  warnings.warn(\n"
          ]
        },
        {
          "output_type": "display_data",
          "data": {
            "text/plain": [
              "config.json:   0%|          | 0.00/156 [00:00<?, ?B/s]"
            ],
            "application/vnd.jupyter.widget-view+json": {
              "version_major": 2,
              "version_minor": 0,
              "model_id": "c3b701ece6994eada240975a87dd4a79"
            }
          },
          "metadata": {}
        },
        {
          "output_type": "display_data",
          "data": {
            "text/plain": [
              "model.safetensors:   0%|          | 0.00/87.3M [00:00<?, ?B/s]"
            ],
            "application/vnd.jupyter.widget-view+json": {
              "version_major": 2,
              "version_minor": 0,
              "model_id": "51d17aa27aeb4a63a392608693f2ae5f"
            }
          },
          "metadata": {}
        }
      ],
      "source": [
        "model = smp.DeepLabV3Plus(backbone_name='resnet101', encoder_weights='imagenet', classes=1, activation=None)\n",
        "optimizer = torch.optim.AdamW(model.parameters(), lr=3e-4, weight_decay=1e-2, betas=(0.9, 0.999), eps=1e-8)\n",
        "#loss_fn = smp.losses.DiceLoss(mode=\"binary\")\n",
        "#loss_fn = BCEDiceLoss(bce_weight=0.2)\n",
        "loss_fn = smp.losses.TverskyLoss(mode = \"binary\", alpha=0.7, beta=0.3)"
      ]
    },
    {
      "cell_type": "code",
      "execution_count": null,
      "metadata": {
        "id": "BtwHB8EfQHRB"
      },
      "outputs": [],
      "source": [
        "import numpy as np\n",
        "import torch\n",
        "from segmentation_models_pytorch.metrics import get_stats, iou_score, f1_score\n",
        "\n",
        "def evaluate_model(model, val_loader, loss_fn, val_df_split, best_threshold=0.5):\n",
        "    \"\"\"\n",
        "    Evaluate the model on val_loader using the best threshold.\n",
        "    Computes overall metrics and group-wise IoU/F1 by race and gender.\n",
        "\n",
        "    Args:\n",
        "        model: trained segmentation model\n",
        "        val_loader: DataLoader for validation set\n",
        "        loss_fn: loss function used\n",
        "        val_df_split: DataFrame with at least ['Patient','race','gender']\n",
        "        best_threshold: float, threshold for binarization\n",
        "    \"\"\"\n",
        "    model.eval()\n",
        "    val_losses, all_preds, all_targets = [], [], []\n",
        "    patient_ids = []\n",
        "\n",
        "    with torch.no_grad():\n",
        "        for batch_idx, (inputs, targets) in enumerate(val_loader):\n",
        "            outputs = model(inputs)\n",
        "            loss = loss_fn(outputs, targets)\n",
        "            val_losses.append(loss.item())\n",
        "            probs = torch.sigmoid(outputs)\n",
        "            all_preds.append(probs.cpu())\n",
        "            all_targets.append(targets.cpu())\n",
        "\n",
        "            # Match patient IDs to batch\n",
        "            # assumes val_loader.dataset is aligned with val_df_split order\n",
        "            batch_patients = val_df_split.iloc[\n",
        "                batch_idx * val_loader.batch_size : batch_idx * val_loader.batch_size + len(inputs)\n",
        "            ][\"Patient\"].tolist()\n",
        "            patient_ids.extend(batch_patients)\n",
        "\n",
        "    # Concatenate\n",
        "    all_preds = torch.cat(all_preds, dim=0)\n",
        "    all_targets = torch.cat(all_targets, dim=0)\n",
        "\n",
        "    # Apply threshold\n",
        "    preds_bin = (all_preds > best_threshold).float()\n",
        "\n",
        "    # Overall metrics\n",
        "    stats = get_stats(preds_bin.long(), all_targets.long(), mode=\"binary\")\n",
        "    avg_iou = iou_score(*stats).mean().item()\n",
        "    avg_f1  = f1_score(*stats).mean().item()\n",
        "    avg_val_loss = np.mean(val_losses)\n",
        "\n",
        "    # --- Group metrics ---\n",
        "    results_per_patient = []\n",
        "    for i, pid in enumerate(patient_ids):\n",
        "        race   = val_df_split.loc[val_df_split[\"Patient\"] == pid, \"race\"].values[0]   if \"race\" in val_df_split.columns else \"unknown\"\n",
        "        gender = val_df_split.loc[val_df_split[\"Patient\"] == pid, \"gender\"].values[0] if \"gender\" in val_df_split.columns else \"unknown\"\n",
        "\n",
        "        y_true = all_targets[i].unsqueeze(0)   # shape [1,1,H,W]\n",
        "        y_pred = preds_bin[i].unsqueeze(0)\n",
        "\n",
        "        stats = get_stats(y_pred.long(), y_true.long(), mode=\"binary\")\n",
        "        iou = iou_score(*stats).mean().item()\n",
        "        f1  = f1_score(*stats).mean().item()\n",
        "\n",
        "        results_per_patient.append({\"Patient\": pid, \"race\": race, \"gender\": gender, \"IoU\": iou, \"Dice\": f1})\n",
        "\n",
        "    results_df = pd.DataFrame(results_per_patient)\n",
        "\n",
        "    iou_by_race  = results_df.groupby(\"race\")[\"IoU\"].mean().reset_index()\n",
        "    dice_by_race = results_df.groupby(\"race\")[\"Dice\"].mean().reset_index()\n",
        "    iou_by_gender  = results_df.groupby(\"gender\")[\"IoU\"].mean().reset_index()\n",
        "    dice_by_gender = results_df.groupby(\"gender\")[\"Dice\"].mean().reset_index()\n",
        "\n",
        "    # --- Print summary ---\n",
        "    print(f\"📊 Overall -> Val Loss: {avg_val_loss:.4f} | IoU: {avg_iou:.4f} | F1: {avg_f1:.4f} | Threshold: {best_threshold:.2f}\")\n",
        "    print(\"📊 IoU by Race:\\n\", iou_by_race)\n",
        "    print(\"📊 Dice by Race:\\n\", dice_by_race)\n",
        "    print(\"📊 IoU by Gender:\\n\", iou_by_gender)\n",
        "    print(\"📊 Dice by Gender:\\n\", dice_by_gender)\n",
        "\n",
        "    return {\n",
        "        \"overall\": {\"val_loss\": avg_val_loss, \"iou_score\": avg_iou, \"f1_score\": avg_f1, \"threshold\": best_threshold},\n",
        "        \"per_patient\": results_df,\n",
        "        \"iou_by_race\": iou_by_race,\n",
        "        \"dice_by_race\": dice_by_race,\n",
        "        \"iou_by_gender\": iou_by_gender,\n",
        "        \"dice_by_gender\": dice_by_gender\n",
        "    }\n",
        "\n",
        "\n"
      ]
    },
    {
      "cell_type": "code",
      "source": [
        "import torch\n",
        "\n",
        "checkpoint_path = \"/content/checkpoint_best_epoch41_iou0.7940_thr0.45.pth\"  # your file\n",
        "checkpoint = torch.load(checkpoint_path, map_location=\"cpu\", weights_only=False)\n",
        "\n",
        "# Restore model weights\n",
        "model.load_state_dict(checkpoint[\"model_state\"])\n",
        "model.eval()\n",
        "\n",
        "print(f\"Loaded model from epoch {checkpoint['epoch']} with IoU={checkpoint['best_iou']:.4f}\")\n",
        "best_threshold = .5\n",
        "\n",
        "results = evaluate_model(\n",
        "    model=model,\n",
        "    val_loader=val_loader,\n",
        "    loss_fn=loss_fn,\n",
        "    val_df_split= val_df_split, # dataframe with Patient, race, gender\n",
        "    best_threshold=best_threshold\n",
        ")\n",
        "\n"
      ],
      "metadata": {
        "colab": {
          "base_uri": "https://localhost:8080/"
        },
        "id": "kPUTag6F6waW",
        "outputId": "623bb135-ca8e-474f-b16f-ea29f8fa2acf"
      },
      "execution_count": null,
      "outputs": [
        {
          "output_type": "stream",
          "name": "stdout",
          "text": [
            "Loaded model from epoch 40 with IoU=0.7940\n",
            "📊 Overall -> Val Loss: 0.2904 | IoU: 0.8341 | F1: 0.8594 | Threshold: 0.50\n",
            "📊 IoU by Race:\n",
            "    race       IoU\n",
            "0   2.0  0.869212\n",
            "1   3.0  0.824286\n",
            "📊 Dice by Race:\n",
            "    race      Dice\n",
            "0   2.0  0.899161\n",
            "1   3.0  0.848257\n",
            "📊 IoU by Gender:\n",
            "    gender       IoU\n",
            "0     1.0  0.851456\n",
            "1     2.0  0.817544\n",
            "📊 Dice by Gender:\n",
            "    gender      Dice\n",
            "0     1.0  0.876086\n",
            "1     2.0  0.843441\n"
          ]
        }
      ]
    },
    {
      "cell_type": "code",
      "execution_count": null,
      "metadata": {
        "id": "mUbALRgn0wpa"
      },
      "outputs": [],
      "source": [
        "# Results of Validation Dataset\n",
        "# Get a batch and make predictions\n",
        "for batch in val_loader:\n",
        "    images, masks = batch\n",
        "\n",
        "    # Forward pass\n",
        "    model.eval()\n",
        "    with torch.no_grad():\n",
        "      predictions = model(images)\n",
        "\n",
        "    # Convert predictions to binary (if using a threshold)\n",
        "    binary_preds = (predictions > 0.5).float()\n",
        "\n",
        "\n",
        "    for index in images: #For index in length of images\n",
        "      index_show = str(index)\n",
        "      index = torch.tensor([index], dtype=torch.long) #probably Remove Brackets\n",
        "      image = images[index]\n",
        "      mask = masks[index]\n",
        "      pred = binary_preds[index]\n",
        "\n",
        "      # Display - Maybe remove from for loop\n",
        "      plt.figure(figsize=(15, 5)) #Probably moving to line above for loop\n",
        "\n",
        "      plt.subplot(1, 3, 1) #Might need to replace first number 1 to index + 1\n",
        "      show_tensor_image(image, title=\"Input Image\" + index_show)\n",
        "\n",
        "      plt.subplot(1, 3, 2)\n",
        "      show_tensor_image(mask, title=\"True Mask\" + index_show, is_mask=True)\n",
        "\n",
        "      plt.subplot(1, 3, 3)\n",
        "      show_tensor_image(pred, title=\"Predicted Mask\" + index_show, is_mask=True)\n",
        "\n",
        "      break"
      ]
    }
  ],
  "metadata": {
    "accelerator": "GPU",
    "colab": {
      "gpuType": "A100",
      "machine_shape": "hm",
      "provenance": []
    },
    "kernelspec": {
      "display_name": "Python 3",
      "name": "python3"
    },
    "language_info": {
      "name": "python"
    },
    "widgets": {
      "application/vnd.jupyter.widget-state+json": {
        "c3b701ece6994eada240975a87dd4a79": {
          "model_module": "@jupyter-widgets/controls",
          "model_name": "HBoxModel",
          "model_module_version": "1.5.0",
          "state": {
            "_dom_classes": [],
            "_model_module": "@jupyter-widgets/controls",
            "_model_module_version": "1.5.0",
            "_model_name": "HBoxModel",
            "_view_count": null,
            "_view_module": "@jupyter-widgets/controls",
            "_view_module_version": "1.5.0",
            "_view_name": "HBoxView",
            "box_style": "",
            "children": [
              "IPY_MODEL_62e7e4b6567b429f96eac83c7d522654",
              "IPY_MODEL_e073ac089d4442c2aff9382b9d6212af",
              "IPY_MODEL_c2285e43b3644754b66ae2c8cfe0c7e0"
            ],
            "layout": "IPY_MODEL_92491d75942a415e97226543bc0e4108"
          }
        },
        "62e7e4b6567b429f96eac83c7d522654": {
          "model_module": "@jupyter-widgets/controls",
          "model_name": "HTMLModel",
          "model_module_version": "1.5.0",
          "state": {
            "_dom_classes": [],
            "_model_module": "@jupyter-widgets/controls",
            "_model_module_version": "1.5.0",
            "_model_name": "HTMLModel",
            "_view_count": null,
            "_view_module": "@jupyter-widgets/controls",
            "_view_module_version": "1.5.0",
            "_view_name": "HTMLView",
            "description": "",
            "description_tooltip": null,
            "layout": "IPY_MODEL_82891d62662b4e8288a8b44511801380",
            "placeholder": "​",
            "style": "IPY_MODEL_b0f970cb6f2943a19329ee8febc53c38",
            "value": "config.json: 100%"
          }
        },
        "e073ac089d4442c2aff9382b9d6212af": {
          "model_module": "@jupyter-widgets/controls",
          "model_name": "FloatProgressModel",
          "model_module_version": "1.5.0",
          "state": {
            "_dom_classes": [],
            "_model_module": "@jupyter-widgets/controls",
            "_model_module_version": "1.5.0",
            "_model_name": "FloatProgressModel",
            "_view_count": null,
            "_view_module": "@jupyter-widgets/controls",
            "_view_module_version": "1.5.0",
            "_view_name": "ProgressView",
            "bar_style": "success",
            "description": "",
            "description_tooltip": null,
            "layout": "IPY_MODEL_f17b8fc9e99e4cd593b57afc19e1d5f0",
            "max": 156,
            "min": 0,
            "orientation": "horizontal",
            "style": "IPY_MODEL_88173ccd85dc44f49896ddd85afa5e77",
            "value": 156
          }
        },
        "c2285e43b3644754b66ae2c8cfe0c7e0": {
          "model_module": "@jupyter-widgets/controls",
          "model_name": "HTMLModel",
          "model_module_version": "1.5.0",
          "state": {
            "_dom_classes": [],
            "_model_module": "@jupyter-widgets/controls",
            "_model_module_version": "1.5.0",
            "_model_name": "HTMLModel",
            "_view_count": null,
            "_view_module": "@jupyter-widgets/controls",
            "_view_module_version": "1.5.0",
            "_view_name": "HTMLView",
            "description": "",
            "description_tooltip": null,
            "layout": "IPY_MODEL_aa4e0b21c55140dea3963a65bf334086",
            "placeholder": "​",
            "style": "IPY_MODEL_f8cdb87ef1e84a19872731b9418dd681",
            "value": " 156/156 [00:00&lt;00:00, 17.6kB/s]"
          }
        },
        "92491d75942a415e97226543bc0e4108": {
          "model_module": "@jupyter-widgets/base",
          "model_name": "LayoutModel",
          "model_module_version": "1.2.0",
          "state": {
            "_model_module": "@jupyter-widgets/base",
            "_model_module_version": "1.2.0",
            "_model_name": "LayoutModel",
            "_view_count": null,
            "_view_module": "@jupyter-widgets/base",
            "_view_module_version": "1.2.0",
            "_view_name": "LayoutView",
            "align_content": null,
            "align_items": null,
            "align_self": null,
            "border": null,
            "bottom": null,
            "display": null,
            "flex": null,
            "flex_flow": null,
            "grid_area": null,
            "grid_auto_columns": null,
            "grid_auto_flow": null,
            "grid_auto_rows": null,
            "grid_column": null,
            "grid_gap": null,
            "grid_row": null,
            "grid_template_areas": null,
            "grid_template_columns": null,
            "grid_template_rows": null,
            "height": null,
            "justify_content": null,
            "justify_items": null,
            "left": null,
            "margin": null,
            "max_height": null,
            "max_width": null,
            "min_height": null,
            "min_width": null,
            "object_fit": null,
            "object_position": null,
            "order": null,
            "overflow": null,
            "overflow_x": null,
            "overflow_y": null,
            "padding": null,
            "right": null,
            "top": null,
            "visibility": null,
            "width": null
          }
        },
        "82891d62662b4e8288a8b44511801380": {
          "model_module": "@jupyter-widgets/base",
          "model_name": "LayoutModel",
          "model_module_version": "1.2.0",
          "state": {
            "_model_module": "@jupyter-widgets/base",
            "_model_module_version": "1.2.0",
            "_model_name": "LayoutModel",
            "_view_count": null,
            "_view_module": "@jupyter-widgets/base",
            "_view_module_version": "1.2.0",
            "_view_name": "LayoutView",
            "align_content": null,
            "align_items": null,
            "align_self": null,
            "border": null,
            "bottom": null,
            "display": null,
            "flex": null,
            "flex_flow": null,
            "grid_area": null,
            "grid_auto_columns": null,
            "grid_auto_flow": null,
            "grid_auto_rows": null,
            "grid_column": null,
            "grid_gap": null,
            "grid_row": null,
            "grid_template_areas": null,
            "grid_template_columns": null,
            "grid_template_rows": null,
            "height": null,
            "justify_content": null,
            "justify_items": null,
            "left": null,
            "margin": null,
            "max_height": null,
            "max_width": null,
            "min_height": null,
            "min_width": null,
            "object_fit": null,
            "object_position": null,
            "order": null,
            "overflow": null,
            "overflow_x": null,
            "overflow_y": null,
            "padding": null,
            "right": null,
            "top": null,
            "visibility": null,
            "width": null
          }
        },
        "b0f970cb6f2943a19329ee8febc53c38": {
          "model_module": "@jupyter-widgets/controls",
          "model_name": "DescriptionStyleModel",
          "model_module_version": "1.5.0",
          "state": {
            "_model_module": "@jupyter-widgets/controls",
            "_model_module_version": "1.5.0",
            "_model_name": "DescriptionStyleModel",
            "_view_count": null,
            "_view_module": "@jupyter-widgets/base",
            "_view_module_version": "1.2.0",
            "_view_name": "StyleView",
            "description_width": ""
          }
        },
        "f17b8fc9e99e4cd593b57afc19e1d5f0": {
          "model_module": "@jupyter-widgets/base",
          "model_name": "LayoutModel",
          "model_module_version": "1.2.0",
          "state": {
            "_model_module": "@jupyter-widgets/base",
            "_model_module_version": "1.2.0",
            "_model_name": "LayoutModel",
            "_view_count": null,
            "_view_module": "@jupyter-widgets/base",
            "_view_module_version": "1.2.0",
            "_view_name": "LayoutView",
            "align_content": null,
            "align_items": null,
            "align_self": null,
            "border": null,
            "bottom": null,
            "display": null,
            "flex": null,
            "flex_flow": null,
            "grid_area": null,
            "grid_auto_columns": null,
            "grid_auto_flow": null,
            "grid_auto_rows": null,
            "grid_column": null,
            "grid_gap": null,
            "grid_row": null,
            "grid_template_areas": null,
            "grid_template_columns": null,
            "grid_template_rows": null,
            "height": null,
            "justify_content": null,
            "justify_items": null,
            "left": null,
            "margin": null,
            "max_height": null,
            "max_width": null,
            "min_height": null,
            "min_width": null,
            "object_fit": null,
            "object_position": null,
            "order": null,
            "overflow": null,
            "overflow_x": null,
            "overflow_y": null,
            "padding": null,
            "right": null,
            "top": null,
            "visibility": null,
            "width": null
          }
        },
        "88173ccd85dc44f49896ddd85afa5e77": {
          "model_module": "@jupyter-widgets/controls",
          "model_name": "ProgressStyleModel",
          "model_module_version": "1.5.0",
          "state": {
            "_model_module": "@jupyter-widgets/controls",
            "_model_module_version": "1.5.0",
            "_model_name": "ProgressStyleModel",
            "_view_count": null,
            "_view_module": "@jupyter-widgets/base",
            "_view_module_version": "1.2.0",
            "_view_name": "StyleView",
            "bar_color": null,
            "description_width": ""
          }
        },
        "aa4e0b21c55140dea3963a65bf334086": {
          "model_module": "@jupyter-widgets/base",
          "model_name": "LayoutModel",
          "model_module_version": "1.2.0",
          "state": {
            "_model_module": "@jupyter-widgets/base",
            "_model_module_version": "1.2.0",
            "_model_name": "LayoutModel",
            "_view_count": null,
            "_view_module": "@jupyter-widgets/base",
            "_view_module_version": "1.2.0",
            "_view_name": "LayoutView",
            "align_content": null,
            "align_items": null,
            "align_self": null,
            "border": null,
            "bottom": null,
            "display": null,
            "flex": null,
            "flex_flow": null,
            "grid_area": null,
            "grid_auto_columns": null,
            "grid_auto_flow": null,
            "grid_auto_rows": null,
            "grid_column": null,
            "grid_gap": null,
            "grid_row": null,
            "grid_template_areas": null,
            "grid_template_columns": null,
            "grid_template_rows": null,
            "height": null,
            "justify_content": null,
            "justify_items": null,
            "left": null,
            "margin": null,
            "max_height": null,
            "max_width": null,
            "min_height": null,
            "min_width": null,
            "object_fit": null,
            "object_position": null,
            "order": null,
            "overflow": null,
            "overflow_x": null,
            "overflow_y": null,
            "padding": null,
            "right": null,
            "top": null,
            "visibility": null,
            "width": null
          }
        },
        "f8cdb87ef1e84a19872731b9418dd681": {
          "model_module": "@jupyter-widgets/controls",
          "model_name": "DescriptionStyleModel",
          "model_module_version": "1.5.0",
          "state": {
            "_model_module": "@jupyter-widgets/controls",
            "_model_module_version": "1.5.0",
            "_model_name": "DescriptionStyleModel",
            "_view_count": null,
            "_view_module": "@jupyter-widgets/base",
            "_view_module_version": "1.2.0",
            "_view_name": "StyleView",
            "description_width": ""
          }
        },
        "51d17aa27aeb4a63a392608693f2ae5f": {
          "model_module": "@jupyter-widgets/controls",
          "model_name": "HBoxModel",
          "model_module_version": "1.5.0",
          "state": {
            "_dom_classes": [],
            "_model_module": "@jupyter-widgets/controls",
            "_model_module_version": "1.5.0",
            "_model_name": "HBoxModel",
            "_view_count": null,
            "_view_module": "@jupyter-widgets/controls",
            "_view_module_version": "1.5.0",
            "_view_name": "HBoxView",
            "box_style": "",
            "children": [
              "IPY_MODEL_6f517008fa264c7fbd9ffd6f62a4f94f",
              "IPY_MODEL_ace6181de8364365ac9c870e378fb0a9",
              "IPY_MODEL_5e30c86f55f843cd88537e4d275bb1d9"
            ],
            "layout": "IPY_MODEL_e47f3a11b4fc4dcaa9410d570cb0cee3"
          }
        },
        "6f517008fa264c7fbd9ffd6f62a4f94f": {
          "model_module": "@jupyter-widgets/controls",
          "model_name": "HTMLModel",
          "model_module_version": "1.5.0",
          "state": {
            "_dom_classes": [],
            "_model_module": "@jupyter-widgets/controls",
            "_model_module_version": "1.5.0",
            "_model_name": "HTMLModel",
            "_view_count": null,
            "_view_module": "@jupyter-widgets/controls",
            "_view_module_version": "1.5.0",
            "_view_name": "HTMLView",
            "description": "",
            "description_tooltip": null,
            "layout": "IPY_MODEL_88d408f92805440aa5c62a05552dd4d7",
            "placeholder": "​",
            "style": "IPY_MODEL_bdbea6582b88467c9e13f91823d932b8",
            "value": "model.safetensors: 100%"
          }
        },
        "ace6181de8364365ac9c870e378fb0a9": {
          "model_module": "@jupyter-widgets/controls",
          "model_name": "FloatProgressModel",
          "model_module_version": "1.5.0",
          "state": {
            "_dom_classes": [],
            "_model_module": "@jupyter-widgets/controls",
            "_model_module_version": "1.5.0",
            "_model_name": "FloatProgressModel",
            "_view_count": null,
            "_view_module": "@jupyter-widgets/controls",
            "_view_module_version": "1.5.0",
            "_view_name": "ProgressView",
            "bar_style": "success",
            "description": "",
            "description_tooltip": null,
            "layout": "IPY_MODEL_eb44d0f4ac4b4cc883dce001ca3340ad",
            "max": 87275112,
            "min": 0,
            "orientation": "horizontal",
            "style": "IPY_MODEL_ef4ef0a879de4e088796e17d7cce3757",
            "value": 87275112
          }
        },
        "5e30c86f55f843cd88537e4d275bb1d9": {
          "model_module": "@jupyter-widgets/controls",
          "model_name": "HTMLModel",
          "model_module_version": "1.5.0",
          "state": {
            "_dom_classes": [],
            "_model_module": "@jupyter-widgets/controls",
            "_model_module_version": "1.5.0",
            "_model_name": "HTMLModel",
            "_view_count": null,
            "_view_module": "@jupyter-widgets/controls",
            "_view_module_version": "1.5.0",
            "_view_name": "HTMLView",
            "description": "",
            "description_tooltip": null,
            "layout": "IPY_MODEL_0ab5bf15ce2c41939e7e677b34dacbbb",
            "placeholder": "​",
            "style": "IPY_MODEL_37a47398b8fd4cf1bbb122f8a663aa71",
            "value": " 87.3M/87.3M [00:02&lt;00:00, 42.9MB/s]"
          }
        },
        "e47f3a11b4fc4dcaa9410d570cb0cee3": {
          "model_module": "@jupyter-widgets/base",
          "model_name": "LayoutModel",
          "model_module_version": "1.2.0",
          "state": {
            "_model_module": "@jupyter-widgets/base",
            "_model_module_version": "1.2.0",
            "_model_name": "LayoutModel",
            "_view_count": null,
            "_view_module": "@jupyter-widgets/base",
            "_view_module_version": "1.2.0",
            "_view_name": "LayoutView",
            "align_content": null,
            "align_items": null,
            "align_self": null,
            "border": null,
            "bottom": null,
            "display": null,
            "flex": null,
            "flex_flow": null,
            "grid_area": null,
            "grid_auto_columns": null,
            "grid_auto_flow": null,
            "grid_auto_rows": null,
            "grid_column": null,
            "grid_gap": null,
            "grid_row": null,
            "grid_template_areas": null,
            "grid_template_columns": null,
            "grid_template_rows": null,
            "height": null,
            "justify_content": null,
            "justify_items": null,
            "left": null,
            "margin": null,
            "max_height": null,
            "max_width": null,
            "min_height": null,
            "min_width": null,
            "object_fit": null,
            "object_position": null,
            "order": null,
            "overflow": null,
            "overflow_x": null,
            "overflow_y": null,
            "padding": null,
            "right": null,
            "top": null,
            "visibility": null,
            "width": null
          }
        },
        "88d408f92805440aa5c62a05552dd4d7": {
          "model_module": "@jupyter-widgets/base",
          "model_name": "LayoutModel",
          "model_module_version": "1.2.0",
          "state": {
            "_model_module": "@jupyter-widgets/base",
            "_model_module_version": "1.2.0",
            "_model_name": "LayoutModel",
            "_view_count": null,
            "_view_module": "@jupyter-widgets/base",
            "_view_module_version": "1.2.0",
            "_view_name": "LayoutView",
            "align_content": null,
            "align_items": null,
            "align_self": null,
            "border": null,
            "bottom": null,
            "display": null,
            "flex": null,
            "flex_flow": null,
            "grid_area": null,
            "grid_auto_columns": null,
            "grid_auto_flow": null,
            "grid_auto_rows": null,
            "grid_column": null,
            "grid_gap": null,
            "grid_row": null,
            "grid_template_areas": null,
            "grid_template_columns": null,
            "grid_template_rows": null,
            "height": null,
            "justify_content": null,
            "justify_items": null,
            "left": null,
            "margin": null,
            "max_height": null,
            "max_width": null,
            "min_height": null,
            "min_width": null,
            "object_fit": null,
            "object_position": null,
            "order": null,
            "overflow": null,
            "overflow_x": null,
            "overflow_y": null,
            "padding": null,
            "right": null,
            "top": null,
            "visibility": null,
            "width": null
          }
        },
        "bdbea6582b88467c9e13f91823d932b8": {
          "model_module": "@jupyter-widgets/controls",
          "model_name": "DescriptionStyleModel",
          "model_module_version": "1.5.0",
          "state": {
            "_model_module": "@jupyter-widgets/controls",
            "_model_module_version": "1.5.0",
            "_model_name": "DescriptionStyleModel",
            "_view_count": null,
            "_view_module": "@jupyter-widgets/base",
            "_view_module_version": "1.2.0",
            "_view_name": "StyleView",
            "description_width": ""
          }
        },
        "eb44d0f4ac4b4cc883dce001ca3340ad": {
          "model_module": "@jupyter-widgets/base",
          "model_name": "LayoutModel",
          "model_module_version": "1.2.0",
          "state": {
            "_model_module": "@jupyter-widgets/base",
            "_model_module_version": "1.2.0",
            "_model_name": "LayoutModel",
            "_view_count": null,
            "_view_module": "@jupyter-widgets/base",
            "_view_module_version": "1.2.0",
            "_view_name": "LayoutView",
            "align_content": null,
            "align_items": null,
            "align_self": null,
            "border": null,
            "bottom": null,
            "display": null,
            "flex": null,
            "flex_flow": null,
            "grid_area": null,
            "grid_auto_columns": null,
            "grid_auto_flow": null,
            "grid_auto_rows": null,
            "grid_column": null,
            "grid_gap": null,
            "grid_row": null,
            "grid_template_areas": null,
            "grid_template_columns": null,
            "grid_template_rows": null,
            "height": null,
            "justify_content": null,
            "justify_items": null,
            "left": null,
            "margin": null,
            "max_height": null,
            "max_width": null,
            "min_height": null,
            "min_width": null,
            "object_fit": null,
            "object_position": null,
            "order": null,
            "overflow": null,
            "overflow_x": null,
            "overflow_y": null,
            "padding": null,
            "right": null,
            "top": null,
            "visibility": null,
            "width": null
          }
        },
        "ef4ef0a879de4e088796e17d7cce3757": {
          "model_module": "@jupyter-widgets/controls",
          "model_name": "ProgressStyleModel",
          "model_module_version": "1.5.0",
          "state": {
            "_model_module": "@jupyter-widgets/controls",
            "_model_module_version": "1.5.0",
            "_model_name": "ProgressStyleModel",
            "_view_count": null,
            "_view_module": "@jupyter-widgets/base",
            "_view_module_version": "1.2.0",
            "_view_name": "StyleView",
            "bar_color": null,
            "description_width": ""
          }
        },
        "0ab5bf15ce2c41939e7e677b34dacbbb": {
          "model_module": "@jupyter-widgets/base",
          "model_name": "LayoutModel",
          "model_module_version": "1.2.0",
          "state": {
            "_model_module": "@jupyter-widgets/base",
            "_model_module_version": "1.2.0",
            "_model_name": "LayoutModel",
            "_view_count": null,
            "_view_module": "@jupyter-widgets/base",
            "_view_module_version": "1.2.0",
            "_view_name": "LayoutView",
            "align_content": null,
            "align_items": null,
            "align_self": null,
            "border": null,
            "bottom": null,
            "display": null,
            "flex": null,
            "flex_flow": null,
            "grid_area": null,
            "grid_auto_columns": null,
            "grid_auto_flow": null,
            "grid_auto_rows": null,
            "grid_column": null,
            "grid_gap": null,
            "grid_row": null,
            "grid_template_areas": null,
            "grid_template_columns": null,
            "grid_template_rows": null,
            "height": null,
            "justify_content": null,
            "justify_items": null,
            "left": null,
            "margin": null,
            "max_height": null,
            "max_width": null,
            "min_height": null,
            "min_width": null,
            "object_fit": null,
            "object_position": null,
            "order": null,
            "overflow": null,
            "overflow_x": null,
            "overflow_y": null,
            "padding": null,
            "right": null,
            "top": null,
            "visibility": null,
            "width": null
          }
        },
        "37a47398b8fd4cf1bbb122f8a663aa71": {
          "model_module": "@jupyter-widgets/controls",
          "model_name": "DescriptionStyleModel",
          "model_module_version": "1.5.0",
          "state": {
            "_model_module": "@jupyter-widgets/controls",
            "_model_module_version": "1.5.0",
            "_model_name": "DescriptionStyleModel",
            "_view_count": null,
            "_view_module": "@jupyter-widgets/base",
            "_view_module_version": "1.2.0",
            "_view_name": "StyleView",
            "description_width": ""
          }
        }
      }
    }
  },
  "nbformat": 4,
  "nbformat_minor": 0
}