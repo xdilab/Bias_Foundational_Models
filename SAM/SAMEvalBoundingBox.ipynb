{
  "cells": [
    {
      "cell_type": "code",
      "execution_count": null,
      "metadata": {
        "colab": {
          "base_uri": "https://localhost:8080/"
        },
        "id": "hXle99u2-SxD",
        "outputId": "b86ba1ee-5923-46ad-c965-4bd4e6d52997"
      },
      "outputs": [
        {
          "output_type": "stream",
          "name": "stdout",
          "text": [
            "Mounted at /content/drive\n"
          ]
        }
      ],
      "source": [
        "from google.colab import drive\n",
        "drive.mount('/content/drive')"
      ]
    },
    {
      "cell_type": "code",
      "execution_count": null,
      "metadata": {
        "id": "uQML7x5DptiP"
      },
      "outputs": [],
      "source": [
        "# --- Kaggle API setup ---\n",
        "!mkdir -p ~/.kaggle\n",
        "!mv /content/kaggle.json ~/.kaggle/\n",
        "!chmod 600 ~/.kaggle/kaggle.json\n",
        "\n",
        "# Download LGG MRI dataset\n",
        "!kaggle datasets download -d mateuszbuda/lgg-mri-segmentation\n",
        "!unzip -q lgg-mri-segmentation.zip -d /content/dataset\n",
        "\n",
        "\n",
        "# --- Install dependencies ---\n",
        "!pip install git+https://github.com/facebookresearch/segment-anything.git\n",
        "!pip install segmentation-models-pytorch albumentations"
      ]
    },
    {
      "cell_type": "code",
      "execution_count": null,
      "metadata": {
        "id": "hu48ZvtfuEPz"
      },
      "outputs": [],
      "source": [
        "import os\n",
        "import pandas as pd\n",
        "import numpy as np\n",
        "from glob import glob\n",
        "from PIL import Image\n",
        "import torch\n",
        "from sklearn.model_selection import train_test_split\n",
        "from segment_anything import sam_model_registry, SamAutomaticMaskGenerator\n",
        "from segmentation_models_pytorch.metrics import get_stats, iou_score, f1_score"
      ]
    },
    {
      "cell_type": "code",
      "execution_count": null,
      "metadata": {
        "id": "BR4QEQESuLj6"
      },
      "outputs": [],
      "source": [
        "# --- Build DataFrame ---\n",
        "files_dir = '/content/dataset/lgg-mri-segmentation/kaggle_3m'\n",
        "file_paths = glob(f'{files_dir}/*/*[0-9].tif')\n",
        "\n",
        "def get_file_row(path):\n",
        "    path_no_ext, ext = os.path.splitext(path)\n",
        "    filename = os.path.basename(path)\n",
        "    patient_id = '_'.join(filename.split('_')[:3])  # Patient ID = first 3 segments\n",
        "    return [patient_id, path, f'{path_no_ext}_mask{ext}']\n",
        "\n",
        "train_df = pd.DataFrame(\n",
        "    (get_file_row(filename) for filename in file_paths),\n",
        "    columns=['Patient', 'image_filename', 'mask_filename']\n",
        ")\n",
        "\n",
        "# Add race and gender\n",
        "patient_info = pd.read_csv(os.path.join(files_dir, \"data.csv\"))\n",
        "train_df = train_df.merge(\n",
        "    patient_info[['Patient', 'race', 'gender']],\n",
        "    on='Patient',\n",
        "    how='left'\n",
        ")"
      ]
    },
    {
      "cell_type": "code",
      "execution_count": null,
      "metadata": {
        "id": "xmqQSqklpixh"
      },
      "outputs": [],
      "source": [
        "import os\n",
        "import cv2\n",
        "import numpy as np\n",
        "import nibabel as nib\n",
        "import pandas as pd\n",
        "from PIL import Image\n",
        "from sklearn.metrics import f1_score, jaccard_score\n",
        "import torch\n",
        "from segment_anything import sam_model_registry, SamAutomaticMaskGenerator\n",
        "\n",
        "# --- Load SAM once ---\n",
        "sam_checkpoint = \"/content/drive/MyDrive/sam_vit_h_4b8939.pth\"\n",
        "model_type = \"vit_h\"\n",
        "sam = sam_model_registry[model_type](checkpoint=sam_checkpoint)\n",
        "\n",
        "mask_generator = SamAutomaticMaskGenerator(\n",
        "    model=sam,\n",
        "    points_per_side=32,            # controls mask density\n",
        "    pred_iou_thresh=0.88,\n",
        "    stability_score_thresh=0.95,\n",
        "    crop_n_layers=1,\n",
        "    crop_n_points_downscale_factor=2,\n",
        "    min_mask_region_area=100       # ignore tiny masks\n",
        ")\n",
        "\n",
        "# --- Paths ---\n",
        "drive_root = \"/content/drive/MyDrive/SAM_results_auto\"\n",
        "os.makedirs(drive_root, exist_ok=True)\n",
        "\n",
        "\n",
        "def run_all_auto(train_df):\n",
        "    results = []\n",
        "\n",
        "    for patient_id, group in train_df.groupby(\"Patient\"):\n",
        "        group = group.sort_values(\"image_filename\")\n",
        "        race = group.iloc[0].race\n",
        "        gender = group.iloc[0].gender\n",
        "\n",
        "        # Prepare volume\n",
        "        first_slice = np.array(Image.open(group.iloc[0].image_filename).convert(\"L\"))\n",
        "        H, W = first_slice.shape\n",
        "        Z = len(group)\n",
        "        output_pred = np.zeros((H, W, Z), dtype=np.uint8)\n",
        "\n",
        "        ious, f1s = [], []\n",
        "\n",
        "        for z, row in enumerate(group.itertuples(index=False)):\n",
        "            mri_file = row.image_filename\n",
        "            mask_file = row.mask_filename\n",
        "\n",
        "            # Load MRI + mask slice\n",
        "            mri_slice = np.array(Image.open(mri_file).convert(\"L\"))\n",
        "            mask_slice = np.array(Image.open(mask_file).convert(\"L\"))\n",
        "            gt = (mask_slice > 0).astype(np.uint8)\n",
        "\n",
        "            # Normalize MRI for SAM (grayscale → RGB)\n",
        "            mri_slice_norm = cv2.normalize(mri_slice, None, 0, 255, cv2.NORM_MINMAX)\n",
        "            mri_slice_rgb = cv2.cvtColor(mri_slice_norm.astype(np.uint8), cv2.COLOR_GRAY2RGB)\n",
        "\n",
        "            # --- AUTO MODE ---\n",
        "            masks = mask_generator.generate(mri_slice_rgb)\n",
        "\n",
        "            if len(masks) > 0:\n",
        "                # Take largest mask by area\n",
        "                largest = max(masks, key=lambda x: x['area'])\n",
        "                pred = largest['segmentation'].astype(np.uint8)\n",
        "            else:\n",
        "                pred = np.zeros_like(gt)\n",
        "\n",
        "            output_pred[:, :, z] = pred\n",
        "\n",
        "            # Metrics\n",
        "            if gt.sum() > 0 or pred.sum() > 0:\n",
        "                ious.append(jaccard_score(gt.flatten(), pred.flatten()))\n",
        "                f1s.append(f1_score(gt.flatten(), pred.flatten()))\n",
        "\n",
        "        # Save NIfTI prediction\n",
        "        affine = np.eye(4)\n",
        "        out_path = os.path.join(drive_root, f\"{patient_id}_sam_auto_predictions.nii.gz\")\n",
        "        nib.save(nib.Nifti1Image(output_pred, affine), out_path)\n",
        "\n",
        "        # Store metrics\n",
        "        results.append({\n",
        "            \"Patient\": patient_id,\n",
        "            \"Race\": race,\n",
        "            \"Gender\": gender,\n",
        "            \"IoU\": np.mean(ious) if ious else 0,\n",
        "            \"F1\": np.mean(f1s) if f1s else 0,\n",
        "            \"Prediction_Path\": out_path\n",
        "        })\n",
        "\n",
        "    # Collect results\n",
        "    results_df = pd.DataFrame(results)\n",
        "    csv_path = os.path.join(drive_root, \"sam_auto_patient_metrics.csv\")\n",
        "    results_df.to_csv(csv_path, index=False)\n",
        "\n",
        "    # Summaries\n",
        "    race_stats = results_df.groupby(\"Race\")[[\"IoU\", \"F1\"]].mean().reset_index()\n",
        "    gender_stats = results_df.groupby(\"Gender\")[[\"IoU\", \"F1\"]].mean().reset_index()\n",
        "\n",
        "    print(f\"✅ Finished auto segmentation for all patients.\\nCSV → {csv_path}\")\n",
        "    print(\"\\nRace-level metrics:\\n\", race_stats)\n",
        "    print(\"\\nGender-level metrics:\\n\", gender_stats)\n",
        "\n",
        "    return results_df, race_stats, gender_stats\n",
        "\n",
        "\n",
        "# --- Run automatically ---\n",
        "if __name__ == \"__main__\":\n",
        "    results_df, race_stats, gender_stats = run_all_auto(train_df)\n"
      ]
    }
  ],
  "metadata": {
    "accelerator": "GPU",
    "colab": {
      "gpuType": "T4",
      "provenance": []
    },
    "kernelspec": {
      "display_name": "Python 3",
      "name": "python3"
    },
    "language_info": {
      "name": "python"
    }
  },
  "nbformat": 4,
  "nbformat_minor": 0
}